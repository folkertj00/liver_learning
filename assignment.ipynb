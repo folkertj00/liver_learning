{
  "cells": [
    {
      "cell_type": "markdown",
      "metadata": {
        "id": "7SXpaKwwGe5x"
      },
      "source": [
        "# TM10007 Assignment template"
      ]
    },
    {
      "cell_type": "code",
      "execution_count": 4,
      "metadata": {
        "colab": {
          "base_uri": "https://localhost:8080/"
        },
        "id": "CiDn2Sk-VWqE",
        "outputId": "98719f28-4456-48a9-b2d4-9b634819e2af"
      },
      "outputs": [
        {
          "output_type": "stream",
          "name": "stdout",
          "text": [
            "  Preparing metadata (setup.py) ... \u001b[?25l\u001b[?25hdone\n",
            "  Building wheel for ktml (setup.py) ... \u001b[?25l\u001b[?25hdone\n"
          ]
        }
      ],
      "source": [
        "# Run this to use from colab environment\n",
        "!pip install -q --upgrade git+https://github.com/jveenland/tm10007_ml.git"
      ]
    },
    {
      "cell_type": "markdown",
      "metadata": {
        "id": "di79_xAuRIJ7"
      },
      "source": [
        "## Data loading and cleaning\n",
        "\n",
        "Below are functions to load the dataset of your choice. After that, it is all up to you to create and evaluate a classification method. Beware, there may be missing values in these datasets. Good luck!"
      ]
    },
    {
      "cell_type": "code",
      "execution_count": 5,
      "metadata": {
        "colab": {
          "base_uri": "https://localhost:8080/"
        },
        "id": "-NE_fTbKGe5z",
        "outputId": "8bcbb76c-dd0e-400a-e087-8ec28ecf1f92"
      },
      "outputs": [
        {
          "output_type": "stream",
          "name": "stdout",
          "text": [
            "The number of samples: 186\n",
            "The number of columns: 494\n"
          ]
        }
      ],
      "source": [
        "# Data loading functions. Uncomment the one you want to use\n",
        "#from worcgist.load_data import load_data\n",
        "#from worclipo.load_data import load_data\n",
        "from worcliver.load_data import load_data\n",
        "#from ecg.load_data import load_data\n",
        "\n",
        "data = load_data()\n",
        "print(f'The number of samples: {len(data.index)}')\n",
        "print(f'The number of columns: {len(data.columns)}')"
      ]
    },
    {
      "cell_type": "markdown",
      "source": [
        "**Checking for missing data**"
      ],
      "metadata": {
        "id": "kIJLESOytOyz"
      }
    },
    {
      "cell_type": "code",
      "source": [
        "# A test if missing data is found correctly\n",
        "# print(data.iloc[5:8, 1:2])\n",
        "# data.iloc[5:8, 1:2] = None\n",
        "# print(data.iloc[5:8, 1:2])\n",
        "\n",
        "# Checking for missing data, returning specific column and row that is missing\n",
        "missing_data_total = data.isna().sum().sum()\n",
        "rows_with_missing = data[data.isna().any(axis=1)]\n",
        "print(f'Total amount of missing data: {missing_data_total}')\n",
        "for index, row in rows_with_missing.iterrows():\n",
        "    missing_columns = row[row.isna()].index\n",
        "    print(f\"Data missing in row: {index}, and column: {', '.join(missing_columns)}\")"
      ],
      "metadata": {
        "id": "Lp6mQ-RgtOkr",
        "outputId": "cc160e23-6a35-41ea-c53c-d4be99d17094",
        "colab": {
          "base_uri": "https://localhost:8080/"
        }
      },
      "execution_count": 6,
      "outputs": [
        {
          "output_type": "stream",
          "name": "stdout",
          "text": [
            "Total amount of missing data: 0\n"
          ]
        }
      ]
    },
    {
      "cell_type": "markdown",
      "source": [
        "**Imports**\n",
        "\n",
        "Import all modules necessary for this Jupyter Notebook\n"
      ],
      "metadata": {
        "id": "uydUOxjsfMP7"
      }
    },
    {
      "cell_type": "code",
      "source": [
        "import numpy as np\n",
        "import pandas as pd\n",
        "import seaborn\n",
        "import matplotlib.pyplot as plt\n",
        "from sklearn.model_selection import train_test_split, StratifiedKFold\n",
        "from sklearn import datasets as ds\n",
        "\n",
        "#feature Selection\n",
        "from sklearn.linear_model import Lasso\n",
        "from sklearn.linear_model import Ridge\n",
        "\n",
        "# Classifiers\n",
        "from sklearn import model_selection\n",
        "from sklearn import metrics\n",
        "from sklearn import feature_selection\n",
        "from sklearn import preprocessing\n",
        "from sklearn import neighbors\n",
        "from sklearn import svm\n",
        "from sklearn import decomposition\n",
        "\n",
        "# Metrics\n",
        "from sklearn.metrics import confusion_matrix\n",
        "from sklearn.metrics import mean_absolute_error\n",
        "from sklearn.metrics import r2_score\n",
        "\n",
        "# Basic Classifiers\n",
        "from sklearn.naive_bayes import GaussianNB\n",
        "from sklearn.discriminant_analysis import LinearDiscriminantAnalysis\n",
        "from sklearn.discriminant_analysis import QuadraticDiscriminantAnalysis\n",
        "from sklearn.linear_model import LogisticRegression\n",
        "from sklearn.linear_model import SGDClassifier\n",
        "from sklearn.tree import DecisionTreeClassifier\n",
        "from sklearn.neighbors import KNeighborsClassifier\n"
      ],
      "metadata": {
        "id": "bk7r6o7hfLVK"
      },
      "execution_count": 51,
      "outputs": []
    },
    {
      "cell_type": "markdown",
      "source": [
        "**Definitions applied in this Jupyter Notebook**"
      ],
      "metadata": {
        "id": "YDf4pxqtSyVC"
      }
    },
    {
      "cell_type": "code",
      "source": [
        "def colorplot(clf, ax, x, y, h=100, precomputer=None):\n",
        "    '''\n",
        "    Overlay the decision areas as colors in an axes.\n",
        "\n",
        "    Input:\n",
        "        clf: trained classifier\n",
        "        ax: axis to overlay color mesh on\n",
        "        x: feature on x-axis\n",
        "        y: feature on y-axis\n",
        "        h(optional): steps in the mesh\n",
        "    '''\n",
        "    # Create a meshgrid the size of the axis\n",
        "    xstep = (x.max() - x.min() ) / 20.0\n",
        "    ystep = (y.max() - y.min() ) / 20.0\n",
        "    x_min, x_max = x.min() - xstep, x.max() + xstep\n",
        "    y_min, y_max = y.min() - ystep, y.max() + ystep\n",
        "    h = max((x_max - x_min, y_max - y_min))/h\n",
        "    xx, yy = np.meshgrid(np.arange(x_min, x_max, h),\n",
        "                         np.arange(y_min, y_max, h))\n",
        "\n",
        "    features = np.c_[xx.ravel(), yy.ravel()]\n",
        "    if precomputer is not None:\n",
        "        if type(precomputer) is RBFSampler:\n",
        "            features = precomputer.transform(features)\n",
        "        elif precomputer is rbf_kernel:\n",
        "            features = rbf_kernel(features, X)\n",
        "\n",
        "    # Plot the decision boundary. For that, we will assign a color to each\n",
        "    # point in the mesh [x_min, x_max]x[y_min, y_max].\n",
        "    if hasattr(clf, \"decision_function\"):\n",
        "        Z = clf.decision_function(features)\n",
        "    else:\n",
        "        Z = clf.predict_proba(features)\n",
        "    if len(Z.shape) > 1:\n",
        "        Z = Z[:, 1]\n",
        "\n",
        "    # Put the result into a color plot\n",
        "    cm = plt.cm.RdBu_r\n",
        "    Z = Z.reshape(xx.shape)\n",
        "    ax.contourf(xx, yy, Z, cmap=cm, alpha=.8)\n",
        "    del xx, yy, x_min, x_max, y_min, y_max, Z, cm\n"
      ],
      "metadata": {
        "id": "6NgZNQSGSvoz"
      },
      "execution_count": 8,
      "outputs": []
    },
    {
      "cell_type": "markdown",
      "source": [
        "**Data Visualization**"
      ],
      "metadata": {
        "id": "jLhtqHO7ew2s"
      }
    },
    {
      "cell_type": "code",
      "source": [
        "# Code for data visualization\n"
      ],
      "metadata": {
        "id": "XDTeNvt6ewWq"
      },
      "execution_count": 7,
      "outputs": []
    },
    {
      "cell_type": "markdown",
      "source": [
        "**PRE PROCESSING**\n",
        "\n",
        "Pre processing contains the following: ..."
      ],
      "metadata": {
        "id": "2IW8GCzuKt9V"
      }
    },
    {
      "cell_type": "code",
      "execution_count": 9,
      "metadata": {
        "id": "GC1O47MQRIJ-",
        "outputId": "f91ecb67-abe8-4b62-bff7-b6def009d64a",
        "colab": {
          "base_uri": "https://localhost:8080/"
        }
      },
      "outputs": [
        {
          "output_type": "stream",
          "name": "stderr",
          "text": [
            "<ipython-input-9-fcfbe0828860>:13: SettingWithCopyWarning: \n",
            "A value is trying to be set on a copy of a slice from a DataFrame.\n",
            "Try using .loc[row_indexer,col_indexer] = value instead\n",
            "\n",
            "See the caveats in the documentation: https://pandas.pydata.org/pandas-docs/stable/user_guide/indexing.html#returning-a-view-versus-a-copy\n",
            "  y['label'] = y.replace({'benign': 0, 'malignant': 1})\n"
          ]
        }
      ],
      "source": [
        "# import numpy as np\n",
        "# import pandas as pd\n",
        "# from sklearn.model_selection import train_test_split, StratifiedKFold\n",
        "\n",
        "# Pre processing\n",
        "#\n",
        "# Splitting\n",
        "df_data = pd.DataFrame(data)\n",
        "X = df_data.iloc[:, 1:]  # Feature set\n",
        "y = df_data.iloc[:, :1]  # Classification Benign/Malignant\n",
        "\n",
        "# Change classification (Benign/Malignant) to binary values\n",
        "y['label'] = y.replace({'benign': 0, 'malignant': 1})\n",
        "\n",
        "# Stratified K-Fold Split\n",
        "skf = StratifiedKFold(n_splits=5, shuffle=True, random_state=40)\n",
        "\n",
        "# Splitting data in Test and Train set\n",
        "for train_index, test_index in skf.split(X, y):\n",
        "    X_pre_train, X_test = X.iloc[train_index], X.iloc[test_index]\n",
        "    y_pre_train, y_test = y.iloc[train_index], y.iloc[test_index]\n",
        "\n",
        "# Splitting data in Train and validation set\n",
        "for train_index, test_index in skf.split(X_pre_train, y_pre_train):\n",
        "    X_train, X_val = X.iloc[train_index], X.iloc[test_index]\n",
        "    y_train, y_val = y.iloc[train_index], y.iloc[test_index]\n",
        "\n",
        "# print(y_train)\n",
        "# print(f'The number of samples: {len(y_train)}')\n",
        "# print(f'test{y_test}')\n",
        "# print(f'The number of samples: {len(y_test)}')\n",
        "# print(f'val{y_val}')\n",
        "# print(f'The number of samples: {len(y_val)}')\n"
      ]
    },
    {
      "cell_type": "markdown",
      "source": [
        "**Scaling**"
      ],
      "metadata": {
        "id": "Y_qg4_ndMEFU"
      }
    },
    {
      "cell_type": "code",
      "source": [
        "# Scaling\n",
        "\n",
        "# # General packages\n",
        "# import numpy as np\n",
        "# import pandas as pd\n",
        "# import matplotlib.pyplot as plt\n",
        "# from sklearn import datasets as ds\n",
        "# import seaborn\n",
        "\n",
        "# # Classifiers\n",
        "# from sklearn import model_selection\n",
        "# from sklearn import metrics\n",
        "# from sklearn import feature_selection\n",
        "# from sklearn import preprocessing\n",
        "# from sklearn import neighbors\n",
        "# from sklearn import svm\n",
        "\n",
        "# from sklearn import decomposition\n",
        "\n",
        "# Scale the data to be normal\n",
        "scaler = preprocessing.StandardScaler()\n",
        "scaler.fit(X_train)\n",
        "X_train_scaled = scaler.transform(X_train)\n",
        "X_val_scaled = scaler.transform(X_val)\n",
        "X_test_scaled = scaler.transform(X_test)\n",
        "print(X_train_scaled)\n",
        "\n",
        "y_train_scaled = y_train['label'].values\n",
        "\n",
        "# # Feature selection\n",
        "# # Create the RFE object and compute a cross-validated score.\n",
        "# svc = svm.SVC(kernel=\"linear\")\n",
        "\n",
        "# # classifications\n",
        "# rfecv = feature_selection.RFECV(\n",
        "#     estimator=svc, step=1,\n",
        "#     cv=model_selection.StratifiedKFold(4),\n",
        "#     scoring='roc_auc')\n",
        "# rfecv.fit(X, y)\n",
        "\n",
        "# # Plot number of features VS. cross-validation scores\n",
        "# plt.figure()\n",
        "# plt.xlabel(\"Number of features selected\")\n",
        "# plt.ylabel(\"Cross validation score (nb of correct classifications)\")\n",
        "# plt.plot(range(1, len(rfecv.cv_results_[\"mean_test_score\"]) + 1), rfecv.cv_results_[\"mean_test_score\"])\n",
        "# plt.show()"
      ],
      "metadata": {
        "id": "nSHsBhpSKlBI",
        "outputId": "c5611758-3852-4dcb-f54f-ec571d3d2e91",
        "colab": {
          "base_uri": "https://localhost:8080/"
        }
      },
      "execution_count": 10,
      "outputs": [
        {
          "output_type": "stream",
          "name": "stdout",
          "text": [
            "[[ 0.94352879 -0.98601311  0.61787628 ... -0.32181343 -0.84659553\n",
            "   0.24217842]\n",
            " [ 0.24547317 -0.23475841  0.85830245 ...  0.13228887 -0.92318971\n",
            "   0.91654734]\n",
            " [ 0.28643264 -0.22331008 -0.19589509 ... -0.45398148  0.26261181\n",
            "  -0.31373541]\n",
            " ...\n",
            " [ 0.9785928  -0.73462397 -0.49196718 ... -0.54232872 -0.92318971\n",
            "  -0.55235085]\n",
            " [-0.5425542   2.55818432 -0.36556292 ... -0.48036377 -0.06022181\n",
            "   0.05117112]\n",
            " [ 0.23019558 -0.3527302  -0.07494348 ... -0.51519997 -0.46519492\n",
            "  -0.28835371]]\n",
            "[0, 1, 1, 0, 1, 0, 1, 0, 0, 1, 1, 1, 0, 0, 0, 1, 1, 1, 1, 1, 1, 1, 0, 1, 1, 1, 1, 1, 0, 1, 0, 1, 0, 0, 1, 0, 0, 1, 1, 1, 1, 1, 1, 0, 0, 0, 1, 1, 0, 0, 1, 1, 0, 1, 1, 0, 0, 0, 1, 0, 1, 1, 1, 0, 1, 0, 0, 0, 1, 0, 0, 1, 0, 1, 0, 1, 1, 0, 0, 1, 0, 1, 1, 0, 0, 1, 0, 0, 1, 0, 1, 1, 0, 1, 0, 1, 0, 0, 0, 1, 0, 0, 1, 1, 0, 0, 1, 1, 0, 0, 0, 0, 0, 1, 0, 0, 1, 0, 0, 1]\n"
          ]
        }
      ]
    },
    {
      "cell_type": "code",
      "source": [],
      "metadata": {
        "id": "-tIeB9l83IiI"
      },
      "execution_count": null,
      "outputs": []
    },
    {
      "cell_type": "markdown",
      "source": [
        "# Feature Selection"
      ],
      "metadata": {
        "id": "SlkA0X15MlSV"
      }
    },
    {
      "cell_type": "markdown",
      "source": [
        "##Unsupervised\n"
      ],
      "metadata": {
        "id": "8nN-tW6G3GkW"
      }
    },
    {
      "cell_type": "code",
      "source": [
        "#Drop Incomplete features\n",
        "X_selection = X.dropna(axis=1)\n",
        "#Drop high multicollinearity; multicollinearity means a strong correlation between different features, which might signal redundancy issues.\n",
        "from statsmodels.stats.outliers_influence import variance_inflation_factor\n",
        "vif_scores = [variance_inflation_factor(X.values, feature)for feature in range(len(X.columns))]\n",
        "#Drop Zero or near-zero variance; Features that are (almost) constant provide little information to learn from and thus are irrelevant.\n",
        "from sklearn.feature_selection import VarianceThreshold\n",
        "sel = VarianceThreshold(threshold=0.05)\n",
        "X_selection = sel.fit_transform(X)"
      ],
      "metadata": {
        "colab": {
          "base_uri": "https://localhost:8080/"
        },
        "id": "gTr9KIv23Ons",
        "outputId": "c9651f5e-82da-415a-ad4f-1225ed915e67"
      },
      "execution_count": 31,
      "outputs": [
        {
          "output_type": "stream",
          "name": "stderr",
          "text": [
            "/usr/local/lib/python3.10/dist-packages/statsmodels/regression/linear_model.py:1782: RuntimeWarning: invalid value encountered in scalar divide\n",
            "  return 1 - self.ssr/self.centered_tss\n",
            "/usr/local/lib/python3.10/dist-packages/statsmodels/regression/linear_model.py:1782: RuntimeWarning: divide by zero encountered in scalar divide\n",
            "  return 1 - self.ssr/self.centered_tss\n",
            "/usr/local/lib/python3.10/dist-packages/statsmodels/stats/outliers_influence.py:198: RuntimeWarning: divide by zero encountered in scalar divide\n",
            "  vif = 1. / (1. - r_squared_i)\n"
          ]
        }
      ]
    },
    {
      "cell_type": "markdown",
      "source": [
        "##Supervised feature selection"
      ],
      "metadata": {
        "id": "kGjayRaq3SH-"
      }
    },
    {
      "cell_type": "markdown",
      "source": [
        "###Embedded methods"
      ],
      "metadata": {
        "id": "M6D_1V0Bj6lN"
      }
    },
    {
      "cell_type": "markdown",
      "source": [
        "**L1 Regularization LASSO \\(least absolute shrinkage and selection operator)**"
      ],
      "metadata": {
        "id": "9qwLwt4GMvaz"
      }
    },
    {
      "cell_type": "markdown",
      "source": [
        "*Applies a penalty to the absolute size of the features, forcing some of them to be exactly zero. Resulting in a subset of the features to contribute in the algorithm by eliminating irrelevant features from the model indicating that these features are not contributing significantly to the model's predictive power.*"
      ],
      "metadata": {
        "id": "ddNO2eAKQYpf"
      }
    },
    {
      "cell_type": "code",
      "source": [
        "###This method now prints the features selected with the lasso method to predict maligne of benigne\n",
        "\n",
        "#Fit the model to training data\n",
        "lasso = Lasso(alpha=0.01)  # 'alpha' is the regularization (= prevent overfitting) strength, higher values indicate stronger regularization\n",
        "lasso.fit(X_train_scaled, y_train_scaled)\n",
        "\n",
        "#Print selected features to be non-zero\n",
        "selected_features_lasso = X.columns[lasso.coef_ != 0] #selects the features used in the model and thus relevant for predictions\n",
        "print(\"Selected Features:\", selected_features_lasso)\n",
        "\n",
        "# Create a DataFrame containing only the selected features from the test data\n",
        "selected_train_features_lasso_df = pd.DataFrame(X_train_scaled[:, lasso.coef_ != 0], columns=selected_features_lasso)\n",
        "y_train_scaled_df = pd.DataFrame(y_train_scaled, index=selected_train_features_lasso_df.index, columns=['Tumor'])\n",
        "\n",
        "# Concatenate selected features DataFrame with y_train\n",
        "selected_train_data = pd.concat([selected_train_features_lasso_df, y_train_scaled_df], axis=1)\n",
        "\n",
        "# Now selected_train_data contains the values of the selected features in separate columns\n",
        "print(selected_train_data.head())  # Display the first few rows of the selected train data\n",
        "\n",
        "#Evaluate model performance\n",
        "lasso_score = lasso.score(X_train_scaled, y_train)\n",
        "print(\"Lasso Model Score:\", lasso_score)"
      ],
      "metadata": {
        "colab": {
          "base_uri": "https://localhost:8080/"
        },
        "id": "GHdg_4pFOXsA",
        "outputId": "ecde8532-9237-4ee0-8802-85efebcff470"
      },
      "execution_count": 78,
      "outputs": [
        {
          "output_type": "stream",
          "name": "stdout",
          "text": [
            "Selected Features: Index(['PREDICT_original_sf_roughness_std_2.5D',\n",
            "       'PREDICT_original_sf_cvar_avg_2.5D',\n",
            "       'PREDICT_original_sf_prax_avg_2.5D',\n",
            "       'PREDICT_original_sf_evar_avg_2.5D',\n",
            "       'PREDICT_original_sf_area_max_2.5D', 'PREDICT_original_of_theta_y',\n",
            "       'PREDICT_original_of_theta_z', 'PREDICT_original_logf_mean_sigma1',\n",
            "       'PREDICT_original_logf_kurtosis_sigma1',\n",
            "       'PREDICT_original_logf_peak_sigma1',\n",
            "       'PREDICT_original_logf_peak_position_sigma1',\n",
            "       'PREDICT_original_logf_energy_sigma1',\n",
            "       'PREDICT_original_logf_quartile_range_sigma1',\n",
            "       'PREDICT_original_logf_median_sigma5',\n",
            "       'PREDICT_original_logf_std_sigma5', 'PREDICT_original_logf_peak_sigma5',\n",
            "       'PREDICT_original_logf_peak_position_sigma5',\n",
            "       'PREDICT_original_logf_max_sigma10',\n",
            "       'PREDICT_original_logf_mean_sigma10',\n",
            "       'PREDICT_original_logf_median_sigma10',\n",
            "       'PREDICT_original_logf_skewness_sigma10',\n",
            "       'PREDICT_original_logf_peak_sigma10',\n",
            "       'PREDICT_original_logf_quartile_range_sigma10',\n",
            "       'PREDICT_original_tf_LBP_std_R3_P12',\n",
            "       'PREDICT_original_tf_LBP_energy_R3_P12',\n",
            "       'PREDICT_original_tf_LBP_quartile_range_R3_P12',\n",
            "       'PREDICT_original_tf_LBP_median_R8_P24',\n",
            "       'PREDICT_original_tf_LBP_kurtosis_R8_P24',\n",
            "       'PREDICT_original_tf_LBP_kurtosis_R15_P36',\n",
            "       'PREDICT_original_tf_LBP_energy_R15_P36',\n",
            "       'PREDICT_original_tf_LBP_quartile_range_R15_P36',\n",
            "       'PREDICT_original_tf_GLCM_homogeneityd3.0A0.0',\n",
            "       'PREDICT_original_tf_GLCMMS_contrastd3.0A0.0mean',\n",
            "       'PREDICT_original_tf_GLCMMS_contrastd3.0A1.57mean',\n",
            "       'PREDICT_original_tf_GLCMMS_dissimilarityd3.0A2.36mean',\n",
            "       'PREDICT_original_tf_GLCMMS_homogeneityd1.0A1.57mean',\n",
            "       'PREDICT_original_tf_GLCMMS_homogeneityd3.0A2.36std',\n",
            "       'PREDICT_original_tf_GLCMMS_ASMd3.0A2.36std',\n",
            "       'PREDICT_original_tf_GLCMMS_correlationd3.0A1.57std',\n",
            "       'PREDICT_original_tf_Gabor_min_F0.05_A0.0',\n",
            "       'PREDICT_original_tf_Gabor_peak_position_F0.05_A0.0',\n",
            "       'PREDICT_original_tf_Gabor_mean_F0.05_A0.79',\n",
            "       'PREDICT_original_tf_Gabor_skewness_F0.05_A0.79',\n",
            "       'PREDICT_original_tf_Gabor_kurtosis_F0.05_A0.79',\n",
            "       'PREDICT_original_tf_Gabor_peak_position_F0.05_A0.79',\n",
            "       'PREDICT_original_tf_Gabor_skewness_F0.05_A1.57',\n",
            "       'PREDICT_original_tf_Gabor_median_F0.05_A2.36',\n",
            "       'PREDICT_original_tf_Gabor_skewness_F0.05_A2.36',\n",
            "       'PREDICT_original_tf_Gabor_peak_F0.05_A2.36',\n",
            "       'PREDICT_original_tf_Gabor_median_F0.2_A0.0',\n",
            "       'PREDICT_original_tf_Gabor_skewness_F0.2_A0.0',\n",
            "       'PREDICT_original_tf_Gabor_peak_position_F0.2_A0.0',\n",
            "       'PREDICT_original_tf_Gabor_median_F0.2_A0.79',\n",
            "       'PREDICT_original_tf_Gabor_skewness_F0.2_A1.57',\n",
            "       'PREDICT_original_tf_Gabor_kurtosis_F0.2_A1.57',\n",
            "       'PREDICT_original_tf_Gabor_median_F0.2_A2.36',\n",
            "       'PREDICT_original_tf_Gabor_peak_F0.2_A2.36',\n",
            "       'PREDICT_original_tf_Gabor_peak_position_F0.2_A2.36',\n",
            "       'PREDICT_original_tf_Gabor_median_F0.5_A0.0',\n",
            "       'PREDICT_original_tf_Gabor_skewness_F0.5_A0.0',\n",
            "       'PREDICT_original_tf_Gabor_peak_position_F0.5_A0.0',\n",
            "       'PREDICT_original_tf_Gabor_quartile_range_F0.5_A0.0',\n",
            "       'PREDICT_original_tf_Gabor_kurtosis_F0.5_A1.57',\n",
            "       'PREDICT_original_vf_Frangi_full_std_SR(1.0, 10.0)_SS2.0',\n",
            "       'PREDICT_original_vf_Frangi_full_entropy_SR(1.0, 10.0)_SS2.0',\n",
            "       'PREDICT_original_vf_Frangi_edge_std_SR(1.0, 10.0)_SS2.0',\n",
            "       'PREDICT_original_vf_Frangi_edge_entropy_SR(1.0, 10.0)_SS2.0',\n",
            "       'PREDICT_original_vf_Frangi_inner_kurtosis_SR(1.0, 10.0)_SS2.0',\n",
            "       'PREDICT_original_vf_Frangi_inner_peak_position_SR(1.0, 10.0)_SS2.0',\n",
            "       'PREDICT_original_phasef_monogenic_energy_WL3_N5',\n",
            "       'PREDICT_original_phasef_monogenic_quartile_range_WL3_N5',\n",
            "       'PREDICT_original_phasef_phasecong_median_WL3_N5',\n",
            "       'PREDICT_original_phasef_phasecong_kurtosis_WL3_N5',\n",
            "       'PREDICT_original_phasef_phasesym_quartile_range_WL3_N5',\n",
            "       'PREDICT_original_phasef_phasesym_entropy_WL3_N5'],\n",
            "      dtype='object')\n",
            "   PREDICT_original_sf_roughness_std_2.5D  PREDICT_original_sf_cvar_avg_2.5D  \\\n",
            "0                                0.036927                          -0.639230   \n",
            "1                                0.613296                          -0.482843   \n",
            "2                               -0.702577                          -1.065187   \n",
            "3                               -0.819034                          -0.268786   \n",
            "4                                0.376166                          -0.503824   \n",
            "\n",
            "   PREDICT_original_sf_prax_avg_2.5D  PREDICT_original_sf_evar_avg_2.5D  \\\n",
            "0                           0.665511                          -0.230427   \n",
            "1                          -0.337865                          -0.453199   \n",
            "2                           0.188528                          -1.292496   \n",
            "3                          -0.467790                          -0.583352   \n",
            "4                           0.915298                          -0.182817   \n",
            "\n",
            "   PREDICT_original_sf_area_max_2.5D  PREDICT_original_of_theta_y  \\\n",
            "0                          -0.319736                     1.177290   \n",
            "1                           0.348802                    -1.320024   \n",
            "2                          -0.669578                     1.229112   \n",
            "3                          -0.839652                     3.816652   \n",
            "4                           0.954326                     0.488910   \n",
            "\n",
            "   PREDICT_original_of_theta_z  PREDICT_original_logf_mean_sigma1  \\\n",
            "0                    -0.517374                          -1.251263   \n",
            "1                    -1.846827                          -0.551047   \n",
            "2                    -0.511266                           1.199762   \n",
            "3                     0.877525                           0.874787   \n",
            "4                     0.884469                           0.408761   \n",
            "\n",
            "   PREDICT_original_logf_kurtosis_sigma1  PREDICT_original_logf_peak_sigma1  \\\n",
            "0                               0.363494                          -1.850721   \n",
            "1                              -0.801590                          -1.222742   \n",
            "2                              -1.020841                           1.198377   \n",
            "3                              -0.889168                           0.610682   \n",
            "4                              -0.538384                          -0.603927   \n",
            "\n",
            "   ...  PREDICT_original_vf_Frangi_edge_entropy_SR(1.0, 10.0)_SS2.0  \\\n",
            "0  ...                                           0.183766             \n",
            "1  ...                                           1.334907             \n",
            "2  ...                                          -1.541519             \n",
            "3  ...                                          -1.193432             \n",
            "4  ...                                           1.106897             \n",
            "\n",
            "   PREDICT_original_vf_Frangi_inner_kurtosis_SR(1.0, 10.0)_SS2.0  \\\n",
            "0                                          -0.082571               \n",
            "1                                          -0.100386               \n",
            "2                                          -0.314058               \n",
            "3                                          -0.239513               \n",
            "4                                          -0.116571               \n",
            "\n",
            "   PREDICT_original_vf_Frangi_inner_peak_position_SR(1.0, 10.0)_SS2.0  \\\n",
            "0                                           -0.09167                    \n",
            "1                                           -0.09167                    \n",
            "2                                           -0.09167                    \n",
            "3                                           -0.09167                    \n",
            "4                                           -0.09167                    \n",
            "\n",
            "   PREDICT_original_phasef_monogenic_energy_WL3_N5  \\\n",
            "0                                        -0.180561   \n",
            "1                                        -0.163929   \n",
            "2                                         2.539866   \n",
            "3                                        -0.186205   \n",
            "4                                        -0.174916   \n",
            "\n",
            "   PREDICT_original_phasef_monogenic_quartile_range_WL3_N5  \\\n",
            "0                                           0.478811         \n",
            "1                                           0.202408         \n",
            "2                                          -1.110508         \n",
            "3                                           0.271509         \n",
            "4                                          -0.212197         \n",
            "\n",
            "   PREDICT_original_phasef_phasecong_median_WL3_N5  \\\n",
            "0                                        -0.201419   \n",
            "1                                        -0.201419   \n",
            "2                                        -0.201419   \n",
            "3                                         2.876550   \n",
            "4                                        -0.201419   \n",
            "\n",
            "   PREDICT_original_phasef_phasecong_kurtosis_WL3_N5  \\\n",
            "0                                           0.084398   \n",
            "1                                          -0.036087   \n",
            "2                                          -0.077258   \n",
            "3                                          -0.398765   \n",
            "4                                          -0.275203   \n",
            "\n",
            "   PREDICT_original_phasef_phasesym_quartile_range_WL3_N5  \\\n",
            "0                                          -0.846596        \n",
            "1                                          -0.923190        \n",
            "2                                           0.262612        \n",
            "3                                           1.980531        \n",
            "4                                          -0.529093        \n",
            "\n",
            "   PREDICT_original_phasef_phasesym_entropy_WL3_N5  Tumor  \n",
            "0                                         0.242178      0  \n",
            "1                                         0.916547      1  \n",
            "2                                        -0.313735      1  \n",
            "3                                        -0.822485      0  \n",
            "4                                         0.713308      1  \n",
            "\n",
            "[5 rows x 76 columns]\n",
            "Lasso Model Score: 0.8438998736096728\n"
          ]
        }
      ]
    },
    {
      "cell_type": "markdown",
      "source": [
        "**L2 Ridge Regularizaiton**\n"
      ],
      "metadata": {
        "id": "OGqdkddiW8ci"
      }
    },
    {
      "cell_type": "markdown",
      "source": [
        "*Adds a penalty term proportional to the square of the coefficients,encourages smaller but non-zero coefficients for all features. Helps to reduce the impact of multicollinearity and stabilize the model meaning that when two features are highly correlated then one is given an smaller coefficient to prevent instability of the model estimates.*"
      ],
      "metadata": {
        "id": "lsNGS3y_XEpQ"
      }
    },
    {
      "cell_type": "code",
      "source": [
        "###This method now prints the features selected with the lasso method to predict maligne of benigne\n",
        "\n",
        "# Fit the Ridge regression model to training data\n",
        "ridge = Ridge(alpha=1)  # 'alpha' is the regularization strength, higher values indicate stronger regularization\n",
        "ridge.fit(X_train_scaled, y_train_scaled)\n",
        "\n",
        "#Print selected features (all features are used in Ridge regression)\n",
        "selected_features_ridge = X.columns\n",
        "print(\"Selected Features:\", selected_features_ridge)\n",
        "\n",
        "# Create a DataFrame containing all features from the test data\n",
        "selected_train_features_ridge_df = pd.DataFrame(X_train_scaled, columns=selected_features_ridge)\n",
        "y_train_scaled_df = pd.DataFrame(y_train_scaled, index=selected_train_features_ridge_df.index, columns=['Tumor'])\n",
        "\n",
        "# Concatenate selected features DataFrame with y_train\n",
        "selected_train_data = pd.concat([selected_train_features_ridge_df, y_train_scaled_df], axis=1)\n",
        "\n",
        "# Now selected_train_data contains the values of all features along with the target variable\n",
        "print(selected_train_data.head())  # Display the first few rows of the selected train data\n",
        "\n",
        "# Visualize Ridge coefficients\n",
        "def plot_coefficients(model, feature_names, title):\n",
        "    coef = model.coef_.flatten()  # Coefficients need to be flattened for visualization\n",
        "    plt.figure(figsize=(10, 6))\n",
        "    plt.bar(range(len(feature_names)), coef, align='center')\n",
        "    plt.xticks(range(len(feature_names)), feature_names, rotation=90)\n",
        "    plt.xlabel('Feature')\n",
        "    plt.ylabel('Coefficient Value')\n",
        "    plt.title(title)\n",
        "    plt.show()\n",
        "\n",
        "plot_coefficients(ridge, X.columns, 'Ridge Coefficients')\n",
        "\n",
        "# Evaluate model performance\n",
        "ridge_score = ridge.score(X_train_scaled, y_train)\n",
        "print(\"Ridge Model Score:\", ridge_score)\n"
      ],
      "metadata": {
        "id": "3VbZQXZ3XiHa"
      },
      "execution_count": null,
      "outputs": []
    },
    {
      "cell_type": "markdown",
      "source": [
        "###Wrapper methods (greedy selection)"
      ],
      "metadata": {
        "id": "GrGeeQPKkBkU"
      }
    },
    {
      "cell_type": "markdown",
      "source": [
        "**Forward selection**"
      ],
      "metadata": {
        "id": "QcBxJ_uTkHBU"
      }
    },
    {
      "cell_type": "markdown",
      "source": [
        "*In forward selection, we start with a null model and then start fitting the model with each individual feature one at a time and select the feature with the minimum p-value. Now fit a model with two features by trying combinations of the earlier selected feature with all other remaining features. Again select the feature with the minimum p-value. Now fit a model with three features by trying combinations of two previously selected features with other remaining features. Repeat this process until we have a set of selected features with a p-value of individual features less than the significance level.*"
      ],
      "metadata": {
        "id": "aBcx3Eacl2M2"
      }
    },
    {
      "cell_type": "code",
      "source": [
        "#importing the necessary libraries\n",
        "from mlxtend.feature_selection import SequentialFeatureSelector as SFS\n",
        "from sklearn.linear_model import LinearRegression\n",
        "# Sequential Forward Selection(sfs)\n",
        "sfs = SFS(LinearRegression(),\n",
        "          k_features=(1,X_train_scaled.shape[1]), #Selecting the number of best features???? How to determine; or is this hyperparameter tuning?\n",
        "          forward=True,\n",
        "          floating=False,\n",
        "          scoring = 'r2', #default\n",
        "          cv = 0)\n",
        "sfs.fit(X_train_scaled, y_train_scaled)\n",
        "sfs.k_feature_names_     # to get the final set of features\n",
        "\n",
        "# Get the performance metric (R-squared) for each number of features\n",
        "metric_dict = sfs.get_metric_dict()\n",
        "\n",
        "from mlxtend.plotting import plot_sequential_feature_selection as plot_sfs\n",
        "fig1 = plot_sfs(sfs.get_metric_dict(), kind='std_dev')\n",
        "plt.title('Sequential Forward Selection (w. StdErr)')\n",
        "plt.grid()\n",
        "plt.show()\n",
        "\n",
        "# Extracting the optimal number of features\n",
        "optimal_num_features = sfs.k_feature_idx_\n",
        "print(optimal_num_features)\n",
        "\n",
        "# Extracting the names of the selected features\n",
        "selected_feature_names = list(X.columns[list(optimal_num_features)])\n",
        "\n",
        "# Creating a dataframe with the selected features\n",
        "selected_features_df = pd.DataFrame({'Feature': selected_feature_names})\n",
        "print(\"Selected features:\")\n",
        "print(selected_features_df)\n",
        "\n",
        "from sklearn.metrics import r2_score, mean_absolute_error, mean_squared_error\n",
        "from sklearn.model_selection import cross_val_predict\n",
        "\n",
        "# Fit the Linear Regression model with selected features\n",
        "selected_features = X_train_scaled[:, optimal_num_features]\n",
        "lr_model = LinearRegression()\n",
        "lr_model.fit(selected_features, y_train_scaled)\n",
        "\n",
        "# Cross-validation predictions\n",
        "cv_predictions = cross_val_predict(lr_model, selected_features, y_train_scaled, cv=5)\n",
        "\n",
        "# Calculate evaluation metrics\n",
        "r2 = r2_score(y_train_scaled, cv_predictions)\n",
        "mae = mean_absolute_error(y_train_scaled, cv_predictions)\n",
        "mse = mean_squared_error(y_train_scaled, cv_predictions)\n",
        "\n",
        "# Print performance metrics\n",
        "print(\"Performance Metrics:\")\n",
        "print(\"R-squared:\", r2) #Predicts the fit of the model to the data\n",
        "print(\"Mean Absolute Error:\", mae)\n",
        "print(\"Mean Squared Error:\", mse)\n",
        "\n"
      ],
      "metadata": {
        "colab": {
          "base_uri": "https://localhost:8080/",
          "height": 926
        },
        "id": "cQ-mxyyOkGch",
        "outputId": "43a7d516-b2db-4d31-93c7-ba6574581925"
      },
      "execution_count": 84,
      "outputs": [
        {
          "output_type": "stream",
          "name": "stderr",
          "text": [
            "/usr/local/lib/python3.10/dist-packages/numpy/core/_methods.py:206: RuntimeWarning: Degrees of freedom <= 0 for slice\n",
            "  ret = _var(a, axis=axis, dtype=dtype, out=out, ddof=ddof,\n",
            "/usr/local/lib/python3.10/dist-packages/numpy/core/_methods.py:198: RuntimeWarning: invalid value encountered in scalar divide\n",
            "  ret = ret.dtype.type(ret / rcount)\n"
          ]
        },
        {
          "output_type": "display_data",
          "data": {
            "text/plain": [
              "<Figure size 640x480 with 1 Axes>"
            ],
            "image/png": "[encoded data removed]"
          },
          "metadata": {}
        },
        {
          "output_type": "stream",
          "name": "stdout",
          "text": [
            "(2, 3, 5, 6, 12, 15, 16, 18, 23, 28, 30, 33, 39, 42, 43, 44, 45, 47, 48, 50, 54, 56, 57, 65, 66, 68, 73, 82, 86, 87, 91, 93, 95, 99, 100, 107, 113, 131, 134, 136, 162, 171, 173, 175, 176, 178, 204, 208, 209, 211, 224, 225, 226, 234, 242, 245, 250, 251, 253, 256, 258, 259, 260, 261, 262, 263, 264, 265, 266, 267, 270, 280, 288, 292, 295, 296, 301, 305, 314, 316, 317, 318, 319, 326, 329, 330, 331, 338, 343, 348, 352, 355, 358, 360, 363, 371, 374, 387, 394, 399, 408, 412, 413, 415, 417, 427, 441, 444, 446, 453, 457, 459, 460, 461, 464, 471, 472, 479)\n",
            "Selected features:\n",
            "                                               Feature\n",
            "0                PREDICT_original_sf_rad_dist_avg_2.5D\n",
            "1                PREDICT_original_sf_rad_dist_std_2.5D\n",
            "2               PREDICT_original_sf_roughness_std_2.5D\n",
            "3               PREDICT_original_sf_convexity_avg_2.5D\n",
            "4                    PREDICT_original_sf_evar_avg_2.5D\n",
            "..                                                 ...\n",
            "113      PREDICT_original_phasef_monogenic_peak_WL3_N5\n",
            "114    PREDICT_original_phasef_monogenic_energy_WL3_N5\n",
            "115       PREDICT_original_phasef_phasecong_std_WL3_N5\n",
            "116  PREDICT_original_phasef_phasecong_skewness_WL3_N5\n",
            "117   PREDICT_original_phasef_phasecong_entropy_WL3_N5\n",
            "\n",
            "[118 rows x 1 columns]\n",
            "Performance Metrics:\n",
            "R-squared: -0.13893968261866907\n",
            "Mean Absolute Error: 0.41207076456756925\n",
            "Mean Squared Error: 0.284655827621152\n"
          ]
        }
      ]
    },
    {
      "cell_type": "markdown",
      "source": [
        "**Backward Elimination**"
      ],
      "metadata": {
        "id": "Rscc4UQIorwQ"
      }
    },
    {
      "cell_type": "markdown",
      "source": [
        "*In backward elimination, we start with the full model (including all the independent variables) and then remove the insignificant feature with the highest p-value(> significance level). This process repeats again and again until we have the final set of significant features.*"
      ],
      "metadata": {
        "id": "3RIGHXJ0o0od"
      }
    },
    {
      "cell_type": "code",
      "source": [
        "from mlxtend.feature_selection import SequentialFeatureSelector as SFS\n",
        "from sklearn.linear_model import LinearRegression\n",
        "#Sequential backward selection(sbs)\n",
        "sbs = SFS(LinearRegression(),\n",
        "         k_features=(1,X_train_scaled.shape[1]),\n",
        "         forward=False,\n",
        "         floating=False,\n",
        "         cv=0)\n",
        "sbs.fit(X_train_scaled, y_train_scaled)\n",
        "sbs.k_feature_names_\n",
        "\n",
        "from mlxtend.plotting import plot_sequential_feature_selection as plot_sfs\n",
        "fig2 = plot_sfs(sbs.get_metric_dict(), kind='std_dev')\n",
        "plt.title('Sequential backward elimination (w. StdErr)')\n",
        "plt.grid()\n",
        "plt.show()\n",
        "\n",
        "# Extracting the optimal number of features\n",
        "optimal_num_features = sbs.k_feature_idx_\n",
        "print(optimal_num_features)\n",
        "\n",
        "# Extracting the names of the selected features\n",
        "selected_feature_names = list(X.columns[list(optimal_num_features)])\n",
        "\n",
        "# Creating a dataframe with the selected features\n",
        "selected_features_df = pd.DataFrame({'Feature': selected_feature_names})\n",
        "print(\"Selected features:\")\n",
        "print(selected_features_df)\n",
        "\n",
        "from sklearn.metrics import r2_score, mean_absolute_error, mean_squared_error\n",
        "from sklearn.model_selection import cross_val_predict\n",
        "\n",
        "# Fit the Linear Regression model with selected features\n",
        "selected_features = X_train_scaled[:, optimal_num_features]\n",
        "lr_model = LinearRegression()\n",
        "lr_model.fit(selected_features, y_train_scaled)\n",
        "\n",
        "# Cross-validation predictions\n",
        "cv_predictions = cross_val_predict(lr_model, selected_features, y_train_scaled, cv=5)\n",
        "\n",
        "# Calculate evaluation metrics\n",
        "r2 = r2_score(y_train_scaled, cv_predictions)\n",
        "mae = mean_absolute_error(y_train_scaled, cv_predictions)\n",
        "mse = mean_squared_error(y_train_scaled, cv_predictions)\n",
        "\n",
        "# Print performance metrics\n",
        "print(\"Performance Metrics:\")\n",
        "print(\"R-squared:\", r2) #Predicts the fit of the model to the data\n",
        "print(\"Mean Absolute Error:\", mae)\n",
        "print(\"Mean Squared Error:\", mse)"
      ],
      "metadata": {
        "colab": {
          "base_uri": "https://localhost:8080/",
          "height": 926
        },
        "id": "pfU-SUa9rMnk",
        "outputId": "ee7019fc-1f5f-49fd-97c6-05f3e8d74ff4"
      },
      "execution_count": 85,
      "outputs": [
        {
          "output_type": "stream",
          "name": "stderr",
          "text": [
            "/usr/local/lib/python3.10/dist-packages/numpy/core/_methods.py:206: RuntimeWarning: Degrees of freedom <= 0 for slice\n",
            "  ret = _var(a, axis=axis, dtype=dtype, out=out, ddof=ddof,\n",
            "/usr/local/lib/python3.10/dist-packages/numpy/core/_methods.py:198: RuntimeWarning: invalid value encountered in scalar divide\n",
            "  ret = ret.dtype.type(ret / rcount)\n"
          ]
        },
        {
          "output_type": "display_data",
          "data": {
            "text/plain": [
              "<Figure size 640x480 with 1 Axes>"
            ],
            "image/png": "[encoded data removed]"
          },
          "metadata": {}
        },
        {
          "output_type": "stream",
          "name": "stdout",
          "text": [
            "(0, 1, 2, 3, 4, 5, 6, 7, 8, 9, 10, 11, 12, 13, 14, 15, 16, 17, 18, 19, 20, 21, 22, 23, 24, 25, 26, 27, 28, 29, 30, 31, 32, 33, 34, 35, 36, 37, 38, 39, 40, 41, 42, 43, 44, 45, 46, 47, 48, 49, 50, 51, 52, 53, 54, 55, 56, 57, 58, 59, 60, 61, 62, 63, 64, 65, 66, 67, 68, 69, 70, 71, 72, 73, 74, 75, 76, 77, 78, 79, 80, 81, 82, 83, 84, 85, 86, 87, 88, 89, 90, 91, 92, 93, 94, 95, 96, 97, 98, 99, 100, 101, 102, 103, 104, 105, 106, 107, 108, 109, 110, 111, 112, 113, 114, 115, 116, 117, 118, 119, 120, 121, 122, 123, 124, 125, 126, 127, 128, 129, 130, 131, 132, 133, 134, 135, 136, 137, 138, 139, 140, 141, 142, 143, 144, 145, 146, 147, 148, 149, 150, 151, 152, 153, 154, 155, 156, 157, 158, 159, 160, 161, 162, 163, 164, 165, 166, 167, 168, 169, 170, 171, 172, 173, 174, 175, 176, 177, 178, 179, 180, 181, 182, 183, 184, 185, 186, 187, 188, 189, 190, 191, 192, 193, 194, 195, 196, 197, 198, 199, 200, 201, 202, 203, 204, 205, 206, 207, 208, 209, 210, 211, 212, 213, 214, 215, 216, 217, 218, 219, 220, 221, 222, 223, 224, 225, 226, 227, 228, 229, 230, 231, 232, 233, 234, 235, 236, 237, 238, 239, 240, 241, 242, 243, 244, 245, 246, 247, 248, 249, 250, 251, 252, 253, 254, 255, 256, 257, 258, 259, 260, 261, 262, 263, 264, 265, 266, 267, 268, 269, 270, 271, 272, 273, 274, 275, 276, 277, 278, 279, 280, 281, 282, 283, 284, 285, 286, 287, 288, 289, 290, 291, 292, 293, 294, 295, 296, 297, 298, 299, 300, 301, 302, 303, 304, 305, 306, 307, 308, 309, 310, 311, 312, 313, 314, 315, 316, 317, 318, 319, 320, 321, 322, 323, 324, 325, 326, 327, 328, 329, 330, 331, 332, 333, 334, 335, 336, 337, 338, 339, 340, 341, 342, 343, 344, 345, 346, 347, 348, 349, 350, 351, 352, 353, 354, 355, 356, 357, 358, 359, 360, 361, 362, 363, 364, 365, 366, 367, 368, 369, 370, 371, 372, 373, 374, 375, 376, 377, 378, 379, 380, 381, 382, 383, 384, 385, 386, 387, 388, 389, 390, 391, 392, 393, 394, 395, 396, 397, 398, 399, 400, 401, 402, 403, 404, 405, 406, 407, 408, 409, 410, 411, 412, 413, 414, 415, 416, 417, 418, 419, 420, 421, 422, 423, 424, 425, 426, 427, 428, 429, 430, 431, 432, 433, 434, 435, 436, 437, 438, 439, 440, 441, 442, 443, 444, 445, 446, 447, 448, 449, 450, 451, 452, 453, 454, 455, 456, 457, 458, 459, 460, 461, 462, 463, 464, 465, 466, 467, 468, 469, 470, 471, 472, 473, 474, 475, 476, 477, 478, 479, 480, 481, 482, 483, 484, 485, 486, 487, 488, 489, 490, 491, 492)\n",
            "Selected features:\n",
            "                                               Feature\n",
            "0             PREDICT_original_sf_compactness_avg_2.5D\n",
            "1             PREDICT_original_sf_compactness_std_2.5D\n",
            "2                PREDICT_original_sf_rad_dist_avg_2.5D\n",
            "3                PREDICT_original_sf_rad_dist_std_2.5D\n",
            "4               PREDICT_original_sf_roughness_avg_2.5D\n",
            "..                                                 ...\n",
            "488  PREDICT_original_phasef_phasesym_peak_position...\n",
            "489      PREDICT_original_phasef_phasesym_range_WL3_N5\n",
            "490     PREDICT_original_phasef_phasesym_energy_WL3_N5\n",
            "491  PREDICT_original_phasef_phasesym_quartile_rang...\n",
            "492    PREDICT_original_phasef_phasesym_entropy_WL3_N5\n",
            "\n",
            "[493 rows x 1 columns]\n",
            "Performance Metrics:\n",
            "R-squared: -0.7344917957605415\n",
            "Mean Absolute Error: 0.501344334501085\n",
            "Mean Squared Error: 0.4335024981209852\n"
          ]
        }
      ]
    },
    {
      "cell_type": "markdown",
      "source": [
        "**Bi-directional elimination(Step-wise Selection)**"
      ],
      "metadata": {
        "id": "tIUYH5yPumWr"
      }
    },
    {
      "cell_type": "markdown",
      "source": [
        "*It is similar to forward selection but the difference is while adding a new feature it also checks the significance of already added features and if it finds any of the already selected features insignificant then it simply removes that particular feature through backward elimination. Hence, It is a combination of forward selection and backward elimination.*"
      ],
      "metadata": {
        "id": "Y4MUTa0puyi1"
      }
    },
    {
      "cell_type": "code",
      "source": [
        "# Sequential Forward Floating Selection(sffs)\n",
        "sffs = SFS(LinearRegression(),\n",
        "         k_features=(1,X_train_scaled.shape[1]),\n",
        "         forward=True,\n",
        "         floating=True, #strategy where features are added and removed iteratively; the algorithm checks if removing or adding another feature improves the performance further.\n",
        "         cv=0)\n",
        "sffs.fit(X, y)\n",
        "sffs.k_feature_names_\n",
        "\n",
        "from mlxtend.plotting import plot_sequential_feature_selection as plot_sfs\n",
        "fig3 = plot_sfs(sffs.get_metric_dict(), kind='std_dev')\n",
        "plt.title('Sequential Step-wise seleciton (w. StdErr)')\n",
        "plt.grid()\n",
        "plt.show()\n",
        "\n",
        "# Extracting the optimal number of features\n",
        "optimal_num_features = sffs.k_feature_idx_\n",
        "print(optimal_num_features)\n",
        "\n",
        "# Extracting the names of the selected features\n",
        "selected_feature_names = list(X.columns[list(optimal_num_features)])\n",
        "\n",
        "# Creating a dataframe with the selected features\n",
        "selected_features_df = pd.DataFrame({'Feature': selected_feature_names})\n",
        "print(\"Selected features:\")\n",
        "print(selected_features_df)\n",
        "\n",
        "from sklearn.metrics import r2_score, mean_absolute_error, mean_squared_error\n",
        "from sklearn.model_selection import cross_val_predict\n",
        "\n",
        "# Fit the Linear Regression model with selected features\n",
        "selected_features = X_train_scaled[:, optimal_num_features]\n",
        "lr_model = LinearRegression()\n",
        "lr_model.fit(selected_features, y_train_scaled)\n",
        "\n",
        "# Cross-validation predictions\n",
        "cv_predictions = cross_val_predict(lr_model, selected_features, y_train_scaled, cv=5)\n",
        "\n",
        "# Calculate evaluation metrics\n",
        "r2 = r2_score(y_train_scaled, cv_predictions)\n",
        "mae = mean_absolute_error(y_train_scaled, cv_predictions)\n",
        "mse = mean_squared_error(y_train_scaled, cv_predictions)\n",
        "\n",
        "# Print performance metrics\n",
        "print(\"Performance Metrics:\")\n",
        "print(\"R-squared:\", r2) #Predicts the fit of the model to the data\n",
        "print(\"Mean Absolute Error:\", mae)\n",
        "print(\"Mean Squared Error:\", mse)"
      ],
      "metadata": {
        "colab": {
          "base_uri": "https://localhost:8080/",
          "height": 236
        },
        "id": "ikhHDqbDu3In",
        "outputId": "6aa795c8-7873-4d02-c14c-4f30cf916043"
      },
      "execution_count": 1,
      "outputs": [
        {
          "output_type": "error",
          "ename": "NameError",
          "evalue": "name 'SFS' is not defined",
          "traceback": [
            "\u001b[0;31m---------------------------------------------------------------------------\u001b[0m",
            "\u001b[0;31mNameError\u001b[0m                                 Traceback (most recent call last)",
            "\u001b[0;32m<ipython-input-1-f55cc3aa49ca>\u001b[0m in \u001b[0;36m<cell line: 2>\u001b[0;34m()\u001b[0m\n\u001b[1;32m      1\u001b[0m \u001b[0;31m# Sequential Forward Floating Selection(sffs)\u001b[0m\u001b[0;34m\u001b[0m\u001b[0;34m\u001b[0m\u001b[0m\n\u001b[0;32m----> 2\u001b[0;31m sffs = SFS(LinearRegression(),\n\u001b[0m\u001b[1;32m      3\u001b[0m          \u001b[0mk_features\u001b[0m\u001b[0;34m=\u001b[0m\u001b[0;34m(\u001b[0m\u001b[0;36m1\u001b[0m\u001b[0;34m,\u001b[0m\u001b[0mX_train_scaled\u001b[0m\u001b[0;34m.\u001b[0m\u001b[0mshape\u001b[0m\u001b[0;34m[\u001b[0m\u001b[0;36m1\u001b[0m\u001b[0;34m]\u001b[0m\u001b[0;34m)\u001b[0m\u001b[0;34m,\u001b[0m\u001b[0;34m\u001b[0m\u001b[0;34m\u001b[0m\u001b[0m\n\u001b[1;32m      4\u001b[0m          \u001b[0mforward\u001b[0m\u001b[0;34m=\u001b[0m\u001b[0;32mTrue\u001b[0m\u001b[0;34m,\u001b[0m\u001b[0;34m\u001b[0m\u001b[0;34m\u001b[0m\u001b[0m\n\u001b[1;32m      5\u001b[0m          \u001b[0mfloating\u001b[0m\u001b[0;34m=\u001b[0m\u001b[0;32mTrue\u001b[0m\u001b[0;34m,\u001b[0m \u001b[0;31m#strategy where features are added and removed iteratively; the algorithm checks if removing or adding another feature improves the performance further.\u001b[0m\u001b[0;34m\u001b[0m\u001b[0;34m\u001b[0m\u001b[0m\n",
            "\u001b[0;31mNameError\u001b[0m: name 'SFS' is not defined"
          ]
        }
      ]
    },
    {
      "cell_type": "code",
      "source": [
        "from sklearn.feature_selection import RFE\n",
        "\n",
        "svc = SVC(kernel=\"linear\")\n",
        "rfe = RFE(svc, n_features_to_select=3)\n",
        "rfe.fit(X, y)\n",
        "X_selection = rfe.transform(X)"
      ],
      "metadata": {
        "id": "npVT5pECSK20"
      },
      "execution_count": null,
      "outputs": []
    },
    {
      "cell_type": "markdown",
      "source": [
        "###Filter methods"
      ],
      "metadata": {
        "id": "bFIlmBztwI5-"
      }
    },
    {
      "cell_type": "markdown",
      "source": [
        "#Feature extraction"
      ],
      "metadata": {
        "id": "xWC3LaVQ6Wdm"
      }
    },
    {
      "cell_type": "markdown",
      "source": [
        "##PCA"
      ],
      "metadata": {
        "id": "9eTFBN6P6aYZ"
      }
    },
    {
      "cell_type": "markdown",
      "source": [
        "*In PCA we try to create n composite features which can best represent the information contained in the number of features of our dataset. These n features are not original features, but developed as a combination of different already existing features.*"
      ],
      "metadata": {
        "id": "WT6-ZJ35h0Sf"
      }
    },
    {
      "cell_type": "code",
      "source": [
        "# Perform a PCA\n",
        "pca = decomposition.PCA(n_components=2)\n",
        "pca.fit(X_train_scaled)\n",
        "X_train_pca = pca.transform(X_train_scaled)\n",
        "X_test_pca = pca.transform(X_test_scaled)\n",
        "\n",
        "y_train_list = y_train['label'].tolist()\n",
        "print(y_train_list)\n",
        "\n",
        "###########\n",
        "\n",
        "# Determine the number of components to keep\n",
        "cumulative_variance_ratio = np.cumsum(pca.explained_variance_ratio_)\n",
        "num_components = np.argmax(cumulative_variance_ratio >= 0.95) + 1\n",
        "\n",
        "# Select the top principal components\n",
        "pca = PCA(n_components=num_components)\n",
        "X_pca = pca.fit_transform(X)\n",
        "\n",
        "# Print the number of selected components\n",
        "print(\"Number of selected components:\", num_components)"
      ],
      "metadata": {
        "colab": {
          "base_uri": "https://localhost:8080/",
          "height": 218
        },
        "id": "A39pkwuY6fOT",
        "outputId": "069ffc92-45fc-4e54-b78b-5ff38cd9a200"
      },
      "execution_count": 2,
      "outputs": [
        {
          "output_type": "error",
          "ename": "NameError",
          "evalue": "name 'decomposition' is not defined",
          "traceback": [
            "\u001b[0;31m---------------------------------------------------------------------------\u001b[0m",
            "\u001b[0;31mNameError\u001b[0m                                 Traceback (most recent call last)",
            "\u001b[0;32m<ipython-input-2-d18800d5ba79>\u001b[0m in \u001b[0;36m<cell line: 2>\u001b[0;34m()\u001b[0m\n\u001b[1;32m      1\u001b[0m \u001b[0;31m# Perform a PCA\u001b[0m\u001b[0;34m\u001b[0m\u001b[0;34m\u001b[0m\u001b[0m\n\u001b[0;32m----> 2\u001b[0;31m \u001b[0mpca\u001b[0m \u001b[0;34m=\u001b[0m \u001b[0mdecomposition\u001b[0m\u001b[0;34m.\u001b[0m\u001b[0mPCA\u001b[0m\u001b[0;34m(\u001b[0m\u001b[0mn_components\u001b[0m\u001b[0;34m=\u001b[0m\u001b[0;36m2\u001b[0m\u001b[0;34m)\u001b[0m\u001b[0;34m\u001b[0m\u001b[0;34m\u001b[0m\u001b[0m\n\u001b[0m\u001b[1;32m      3\u001b[0m \u001b[0mpca\u001b[0m\u001b[0;34m.\u001b[0m\u001b[0mfit\u001b[0m\u001b[0;34m(\u001b[0m\u001b[0mX_train_scaled\u001b[0m\u001b[0;34m)\u001b[0m\u001b[0;34m\u001b[0m\u001b[0;34m\u001b[0m\u001b[0m\n\u001b[1;32m      4\u001b[0m \u001b[0mX_train_pca\u001b[0m \u001b[0;34m=\u001b[0m \u001b[0mpca\u001b[0m\u001b[0;34m.\u001b[0m\u001b[0mtransform\u001b[0m\u001b[0;34m(\u001b[0m\u001b[0mX_train_scaled\u001b[0m\u001b[0;34m)\u001b[0m\u001b[0;34m\u001b[0m\u001b[0;34m\u001b[0m\u001b[0m\n\u001b[1;32m      5\u001b[0m \u001b[0mX_test_pca\u001b[0m \u001b[0;34m=\u001b[0m \u001b[0mpca\u001b[0m\u001b[0;34m.\u001b[0m\u001b[0mtransform\u001b[0m\u001b[0;34m(\u001b[0m\u001b[0mX_test_scaled\u001b[0m\u001b[0;34m)\u001b[0m\u001b[0;34m\u001b[0m\u001b[0;34m\u001b[0m\u001b[0m\n",
            "\u001b[0;31mNameError\u001b[0m: name 'decomposition' is not defined"
          ]
        }
      ]
    },
    {
      "cell_type": "markdown",
      "source": [
        "# Classifiers"
      ],
      "metadata": {
        "id": "yUkgqj26ejAk"
      }
    },
    {
      "cell_type": "code",
      "source": [],
      "metadata": {
        "id": "fvaLpTPd6ZRj"
      },
      "execution_count": null,
      "outputs": []
    },
    {
      "cell_type": "markdown",
      "source": [
        "**Basic Classifiers**"
      ],
      "metadata": {
        "id": "KWAoHyyrP5ki"
      }
    },
    {
      "cell_type": "code",
      "source": [
        "# # General packages\n",
        "# import numpy as np\n",
        "# import matplotlib.pyplot as plt\n",
        "# from sklearn import datasets as ds\n",
        "# from sklearn import metrics\n",
        "\n",
        "# # Metrics\n",
        "# from sklearn.metrics import confusion_matrix\n",
        "# from sklearn.metrics import mean_absolute_error\n",
        "# from sklearn.metrics import r2_score\n",
        "\n",
        "# # Basic Classifiers\n",
        "# from sklearn.naive_bayes import GaussianNB\n",
        "# from sklearn.discriminant_analysis import LinearDiscriminantAnalysis\n",
        "# from sklearn.discriminant_analysis import QuadraticDiscriminantAnalysis\n",
        "# from sklearn.linear_model import LogisticRegression\n",
        "# from sklearn.linear_model import SGDClassifier\n",
        "# from sklearn.tree import DecisionTreeClassifier\n",
        "# from sklearn.neighbors import KNeighborsClassifier\n",
        "\n",
        "# Linear classifier\n",
        "fig = plt.figure(figsize=(8, 8))\n",
        "ax = fig.add_subplot(111)\n",
        "ax.set_title(\"Two informative features, one cluster per class\",\n",
        "             fontsize='small')\n",
        "ax.scatter(X_train_pca[:, 0], X_train_pca[:, 1], marker='o', c=y_train_list,\n",
        "           s=25, edgecolor='k', cmap=plt.cm.Paired)\n",
        "lda = LinearDiscriminantAnalysis()\n",
        "lda = lda.fit(X_train_pca, y_train_list)\n",
        "y_pred = lda.predict(X_train_pca)\n",
        "colorplot(lda, ax, X_train_pca[:, 0], X_train_pca[:, 1])\n",
        "print(\"Number of mislabeled points out of a total %d points : %d\" % (X_train_pca.shape[0], (y_train_list != y_pred).sum()))\n"
      ],
      "metadata": {
        "id": "w7hIfsfiP9Q8",
        "outputId": "30bc61ca-731c-40f9-b2ee-9cdc82702c56",
        "colab": {
          "base_uri": "https://localhost:8080/",
          "height": 0
        }
      },
      "execution_count": 11,
      "outputs": [
        {
          "output_type": "error",
          "ename": "NameError",
          "evalue": "name 'X_train_pca' is not defined",
          "traceback": [
            "\u001b[0;31m---------------------------------------------------------------------------\u001b[0m",
            "\u001b[0;31mNameError\u001b[0m                                 Traceback (most recent call last)",
            "\u001b[0;32m<ipython-input-11-27a9d9cc9aa8>\u001b[0m in \u001b[0;36m<cell line: 26>\u001b[0;34m()\u001b[0m\n\u001b[1;32m     24\u001b[0m ax.set_title(\"Two informative features, one cluster per class\",\n\u001b[1;32m     25\u001b[0m              fontsize='small')\n\u001b[0;32m---> 26\u001b[0;31m ax.scatter(X_train_pca[:, 0], X_train_pca[:, 1], marker='o', c=y_train_list,\n\u001b[0m\u001b[1;32m     27\u001b[0m            s=25, edgecolor='k', cmap=plt.cm.Paired)\n\u001b[1;32m     28\u001b[0m \u001b[0mlda\u001b[0m \u001b[0;34m=\u001b[0m \u001b[0mLinearDiscriminantAnalysis\u001b[0m\u001b[0;34m(\u001b[0m\u001b[0;34m)\u001b[0m\u001b[0;34m\u001b[0m\u001b[0;34m\u001b[0m\u001b[0m\n",
            "\u001b[0;31mNameError\u001b[0m: name 'X_train_pca' is not defined"
          ]
        },
        {
          "output_type": "display_data",
          "data": {
            "text/plain": [
              "<Figure size 800x800 with 1 Axes>"
            ],
            "image/png": "[encoded data removed]"
          },
          "metadata": {}
        }
      ]
    },
    {
      "cell_type": "markdown",
      "source": [
        "**Basic classifiers: Gaussian, LDA, QDA, Logistic regression, SDG, KNN & Decision Tree**"
      ],
      "metadata": {
        "id": "3DSKEvQgYULm"
      }
    },
    {
      "cell_type": "code",
      "source": [
        "# Plot several basic classifiers and plot the result. Define misclasses\n",
        "clsfs = [LinearDiscriminantAnalysis(),QuadraticDiscriminantAnalysis(),GaussianNB(),\n",
        "         LogisticRegression(),SGDClassifier(),KNeighborsClassifier(),DecisionTreeClassifier()]\n",
        "Xs = X_train_pca\n",
        "Ys = y_train_list\n",
        "clfs_fit = list()\n",
        "\n",
        "# First make a plot without classifiers:\n",
        "fig = plt.figure(figsize=(21,3*len(clsfs)))\n",
        "num = 0  # Iteration number for the subplots\n",
        "\n",
        "for num in range(0,7):\n",
        "    ax = fig.add_subplot(21, 3, num + 1)\n",
        "    ax.scatter(Xs[:, 0], Xs[:, 1], marker='o', c=Ys,\n",
        "            s=25, edgecolor='k', cmap=plt.cm.Paired)\n",
        "\n",
        "# Fit the classifiers and add them to the plot\n",
        "num=0\n",
        "Xt=list()\n",
        "Yt=list()\n",
        "for clf in clsfs:\n",
        "    # Fit classifier\n",
        "    clf.fit(Xs,Ys)\n",
        "    y_pred=clf.predict(Xs)\n",
        "    # Predict labels using fitted classifier\n",
        "\n",
        "    # Make scatterplot of features\n",
        "    ax = fig.add_subplot(3, 3, num + 1)\n",
        "    ax.scatter(Xs[:, 0], Xs[:, 1], marker='o', c=Ys,\n",
        "            s=25, edgecolor='k', cmap=plt.cm.Paired)\n",
        "    colorplot(clf, ax, Xs[:,0], Xs[:,1])\n",
        "    # Add overlay through colorplot function\n",
        "    t=(f\"{clf}, Misclass: %d / %d\" % ((Ys!=y_pred).sum(), Xs.shape[0]))\n",
        "    ax.set_title(t)\n",
        "    num+=1\n",
        "\n",
        "    clfs_fit.append(clf)\n",
        "    Xt.append(Xs)\n",
        "    Yt.append(Ys)\n"
      ],
      "metadata": {
        "id": "rZGT6b7nYUAs",
        "outputId": "85ff4cd8-87e6-4ab9-d9bc-14d127f64a52",
        "colab": {
          "base_uri": "https://localhost:8080/",
          "height": 0
        }
      },
      "execution_count": 12,
      "outputs": [
        {
          "output_type": "error",
          "ename": "NameError",
          "evalue": "name 'X_train_pca' is not defined",
          "traceback": [
            "\u001b[0;31m---------------------------------------------------------------------------\u001b[0m",
            "\u001b[0;31mNameError\u001b[0m                                 Traceback (most recent call last)",
            "\u001b[0;32m<ipython-input-12-f025d6a91e63>\u001b[0m in \u001b[0;36m<cell line: 4>\u001b[0;34m()\u001b[0m\n\u001b[1;32m      2\u001b[0m clsfs = [LinearDiscriminantAnalysis(),QuadraticDiscriminantAnalysis(),GaussianNB(),\n\u001b[1;32m      3\u001b[0m          LogisticRegression(),SGDClassifier(),KNeighborsClassifier(),DecisionTreeClassifier()]\n\u001b[0;32m----> 4\u001b[0;31m \u001b[0mXs\u001b[0m \u001b[0;34m=\u001b[0m \u001b[0mX_train_pca\u001b[0m\u001b[0;34m\u001b[0m\u001b[0;34m\u001b[0m\u001b[0m\n\u001b[0m\u001b[1;32m      5\u001b[0m \u001b[0mYs\u001b[0m \u001b[0;34m=\u001b[0m \u001b[0my_train_list\u001b[0m\u001b[0;34m\u001b[0m\u001b[0;34m\u001b[0m\u001b[0m\n\u001b[1;32m      6\u001b[0m \u001b[0mclfs_fit\u001b[0m \u001b[0;34m=\u001b[0m \u001b[0mlist\u001b[0m\u001b[0;34m(\u001b[0m\u001b[0;34m)\u001b[0m\u001b[0;34m\u001b[0m\u001b[0;34m\u001b[0m\u001b[0m\n",
            "\u001b[0;31mNameError\u001b[0m: name 'X_train_pca' is not defined"
          ]
        }
      ]
    },
    {
      "cell_type": "markdown",
      "source": [
        "**KNN**"
      ],
      "metadata": {
        "id": "oksvSMtzPmu5"
      }
    },
    {
      "cell_type": "code",
      "source": [
        "# Fit kNN\n",
        "knn = neighbors.KNeighborsClassifier(n_neighbors=15)\n",
        "knn.fit(X_train_pca, y_train)\n",
        "score_train = knn.score(X_train_pca, y_train)\n",
        "score_test = knn.score(X_test_pca, y_test)\n",
        "\n",
        "# Print result\n",
        "print(f\"Training result: {score_train}\")\n",
        "print(f\"Test result: {score_test}\")"
      ],
      "metadata": {
        "id": "SFMvt4EuPjUx",
        "outputId": "07c09ff3-5c8f-4eed-9ac0-68ad5ff72077",
        "colab": {
          "base_uri": "https://localhost:8080/",
          "height": 0
        }
      },
      "execution_count": 13,
      "outputs": [
        {
          "output_type": "error",
          "ename": "NameError",
          "evalue": "name 'X_train_pca' is not defined",
          "traceback": [
            "\u001b[0;31m---------------------------------------------------------------------------\u001b[0m",
            "\u001b[0;31mNameError\u001b[0m                                 Traceback (most recent call last)",
            "\u001b[0;32m<ipython-input-13-327e51de2a74>\u001b[0m in \u001b[0;36m<cell line: 3>\u001b[0;34m()\u001b[0m\n\u001b[1;32m      1\u001b[0m \u001b[0;31m# Fit kNN\u001b[0m\u001b[0;34m\u001b[0m\u001b[0;34m\u001b[0m\u001b[0m\n\u001b[1;32m      2\u001b[0m \u001b[0mknn\u001b[0m \u001b[0;34m=\u001b[0m \u001b[0mneighbors\u001b[0m\u001b[0;34m.\u001b[0m\u001b[0mKNeighborsClassifier\u001b[0m\u001b[0;34m(\u001b[0m\u001b[0mn_neighbors\u001b[0m\u001b[0;34m=\u001b[0m\u001b[0;36m15\u001b[0m\u001b[0;34m)\u001b[0m\u001b[0;34m\u001b[0m\u001b[0;34m\u001b[0m\u001b[0m\n\u001b[0;32m----> 3\u001b[0;31m \u001b[0mknn\u001b[0m\u001b[0;34m.\u001b[0m\u001b[0mfit\u001b[0m\u001b[0;34m(\u001b[0m\u001b[0mX_train_pca\u001b[0m\u001b[0;34m,\u001b[0m \u001b[0my_train\u001b[0m\u001b[0;34m)\u001b[0m\u001b[0;34m\u001b[0m\u001b[0;34m\u001b[0m\u001b[0m\n\u001b[0m\u001b[1;32m      4\u001b[0m \u001b[0mscore_train\u001b[0m \u001b[0;34m=\u001b[0m \u001b[0mknn\u001b[0m\u001b[0;34m.\u001b[0m\u001b[0mscore\u001b[0m\u001b[0;34m(\u001b[0m\u001b[0mX_train_pca\u001b[0m\u001b[0;34m,\u001b[0m \u001b[0my_train\u001b[0m\u001b[0;34m)\u001b[0m\u001b[0;34m\u001b[0m\u001b[0;34m\u001b[0m\u001b[0m\n\u001b[1;32m      5\u001b[0m \u001b[0mscore_test\u001b[0m \u001b[0;34m=\u001b[0m \u001b[0mknn\u001b[0m\u001b[0;34m.\u001b[0m\u001b[0mscore\u001b[0m\u001b[0;34m(\u001b[0m\u001b[0mX_test_pca\u001b[0m\u001b[0;34m,\u001b[0m \u001b[0my_test\u001b[0m\u001b[0;34m)\u001b[0m\u001b[0;34m\u001b[0m\u001b[0;34m\u001b[0m\u001b[0m\n",
            "\u001b[0;31mNameError\u001b[0m: name 'X_train_pca' is not defined"
          ]
        }
      ]
    },
    {
      "cell_type": "markdown",
      "source": [
        "## Test the metrics on the used classifiers"
      ],
      "metadata": {
        "id": "Cxh8lZpvtwSk"
      }
    },
    {
      "cell_type": "code",
      "source": [
        "import matplotlib.pyplot as plt\n",
        "from sklearn.metrics import roc_curve, auc\n",
        "\n",
        "df_data = pd.DataFrame(data)\n",
        "# X1 = df_data.iloc[:, 1:]        # Feature set\n",
        "y_truth = df_data.iloc[:, :1]   # Classification Benign/Malignant\n",
        "# gnb = GaussianNB()\n",
        "# gnb = gnb.fit(X1, y_truth)\n",
        "# y_pred = gnb.predict(X1)\n",
        "all_results={}\n",
        "\n",
        "for clf, X1, Y1 in zip(clfs_fit, Xt, Yt):\n",
        "    y_pred=clf.predict(X1)\n",
        "\n",
        "    if hasattr(clf, 'predict_proba'):\n",
        "    # The first column gives the probability for class = 0, so we take\n",
        "    # the second which gives the probability class = 1:\n",
        "        y_score = clf.predict_proba(X1)[:, 1]\n",
        "    else:\n",
        "        y_score = y_pred\n",
        "\n",
        "    # The hasattr function checks whether an object, function or package has\n",
        "    # a certain attribute. This attribute can be a subfunction, or again an\n",
        "    # object or function, but also things like scalars or strings.\n",
        "\n",
        "    auc_score=metrics.roc_auc_score(Y1, y_score)\n",
        "    accuracy=metrics.accuracy_score(Y1, y_pred)\n",
        "    F1=metrics.f1_score(Y1,y_pred)\n",
        "    precision=metrics.precision_score(Y1,y_pred)\n",
        "    recall=metrics.recall_score(Y1, y_pred)\n",
        "    # accuracy, AUC, f1score, precision, recall\n",
        "    result = [auc_score,accuracy,F1,precision,recall]\n",
        "    all_results[clf]=result\n",
        "\n",
        "    # Calculate ROC curve\n",
        "    fpr, tpr, thresholds = roc_curve(Y1, y_score)\n",
        "\n",
        "    # Plot ROC curve\n",
        "    plt.figure()\n",
        "    plt.plot(fpr, tpr, color='darkorange', lw=2, label='ROC curve (AUC = %0.2f)' % auc_score)\n",
        "    plt.plot([0, 1], [0, 1], color='navy', lw=2, linestyle='--')\n",
        "    plt.xlim([0.0, 1.0])\n",
        "    plt.ylim([0.0, 1.05])\n",
        "    plt.xlabel('False Positive Rate')\n",
        "    plt.ylabel('True Positive Rate')\n",
        "    plt.title(f'ROC Curve {clf}')\n",
        "    plt.legend(loc=\"lower right\")\n",
        "    plt.show()\n",
        "\n",
        "results_pd = pd.DataFrame(all_results)\n",
        "results_pd.index = ['auc','accuracy','F1','precision','recall']\n",
        "results_pd\n",
        "## transpose possible if we want the axes different\n",
        "# results_trans=results_pd.transpose()\n",
        "# results_trans"
      ],
      "metadata": {
        "id": "SfqywSa8t1AC"
      },
      "execution_count": null,
      "outputs": []
    }
  ],
  "metadata": {
    "colab": {
      "name": "assignment.ipynb",
      "provenance": []
    },
    "kernelspec": {
      "display_name": "Python 3",
      "language": "python",
      "name": "python3"
    },
    "language_info": {
      "codemirror_mode": {
        "name": "ipython",
        "version": 3
      },
      "file_extension": ".py",
      "mimetype": "text/x-python",
      "name": "python",
      "nbconvert_exporter": "python",
      "pygments_lexer": "ipython3",
      "version": "3.8.5"
    }
  },
  "nbformat": 4,
  "nbformat_minor": 0
}