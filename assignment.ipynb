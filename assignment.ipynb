{
  "cells": [
    {
      "cell_type": "markdown",
      "metadata": {
        "id": "7SXpaKwwGe5x"
      },
      "source": [
        "# TM10007 Assignment template"
      ]
    },
    {
      "cell_type": "code",
      "execution_count": 1,
      "metadata": {
        "colab": {
          "base_uri": "https://localhost:8080/"
        },
        "id": "CiDn2Sk-VWqE",
        "outputId": "3f96d5c2-c2a8-4df7-bbad-4a28d6e3537a"
      },
      "outputs": [
        {
          "output_type": "stream",
          "name": "stdout",
          "text": [
            "  Preparing metadata (setup.py) ... \u001b[?25l\u001b[?25hdone\n",
            "\u001b[2K     \u001b[90m━━━━━━━━━━━━━━━━━━━━━━━━━━━━━━━━━━━━━━━━\u001b[0m \u001b[32m23.7/23.7 MB\u001b[0m \u001b[31m1.7 MB/s\u001b[0m eta \u001b[36m0:00:00\u001b[0m\n",
            "\u001b[2K     \u001b[90m━━━━━━━━━━━━━━━━━━━━━━━━━━━━━━━━━━━━━━━━\u001b[0m \u001b[32m823.6/823.6 kB\u001b[0m \u001b[31m2.0 MB/s\u001b[0m eta \u001b[36m0:00:00\u001b[0m\n",
            "\u001b[2K     \u001b[90m━━━━━━━━━━━━━━━━━━━━━━━━━━━━━━━━━━━━━━━━\u001b[0m \u001b[32m14.1/14.1 MB\u001b[0m \u001b[31m1.6 MB/s\u001b[0m eta \u001b[36m0:00:00\u001b[0m\n",
            "\u001b[2K     \u001b[90m━━━━━━━━━━━━━━━━━━━━━━━━━━━━━━━━━━━━━━━━\u001b[0m \u001b[32m731.7/731.7 MB\u001b[0m \u001b[31m953.3 kB/s\u001b[0m eta \u001b[36m0:00:00\u001b[0m\n",
            "\u001b[2K     \u001b[90m━━━━━━━━━━━━━━━━━━━━━━━━━━━━━━━━━━━━━━━━\u001b[0m \u001b[32m410.6/410.6 MB\u001b[0m \u001b[31m1.3 MB/s\u001b[0m eta \u001b[36m0:00:00\u001b[0m\n",
            "\u001b[2K     \u001b[90m━━━━━━━━━━━━━━━━━━━━━━━━━━━━━━━━━━━━━━━━\u001b[0m \u001b[32m121.6/121.6 MB\u001b[0m \u001b[31m1.8 MB/s\u001b[0m eta \u001b[36m0:00:00\u001b[0m\n",
            "\u001b[2K     \u001b[90m━━━━━━━━━━━━━━━━━━━━━━━━━━━━━━━━━━━━━━━━\u001b[0m \u001b[32m56.5/56.5 MB\u001b[0m \u001b[31m2.6 MB/s\u001b[0m eta \u001b[36m0:00:00\u001b[0m\n",
            "\u001b[2K     \u001b[90m━━━━━━━━━━━━━━━━━━━━━━━━━━━━━━━━━━━━━━━━\u001b[0m \u001b[32m124.2/124.2 MB\u001b[0m \u001b[31m1.9 MB/s\u001b[0m eta \u001b[36m0:00:00\u001b[0m\n",
            "\u001b[2K     \u001b[90m━━━━━━━━━━━━━━━━━━━━━━━━━━━━━━━━━━━━━━━━\u001b[0m \u001b[32m196.0/196.0 MB\u001b[0m \u001b[31m1.3 MB/s\u001b[0m eta \u001b[36m0:00:00\u001b[0m\n",
            "\u001b[2K     \u001b[90m━━━━━━━━━━━━━━━━━━━━━━━━━━━━━━━━━━━━━━━━\u001b[0m \u001b[32m166.0/166.0 MB\u001b[0m \u001b[31m1.1 MB/s\u001b[0m eta \u001b[36m0:00:00\u001b[0m\n",
            "\u001b[2K     \u001b[90m━━━━━━━━━━━━━━━━━━━━━━━━━━━━━━━━━━━━━━━━\u001b[0m \u001b[32m99.1/99.1 kB\u001b[0m \u001b[31m1.4 MB/s\u001b[0m eta \u001b[36m0:00:00\u001b[0m\n",
            "\u001b[2K     \u001b[90m━━━━━━━━━━━━━━━━━━━━━━━━━━━━━━━━━━━━━━━━\u001b[0m \u001b[32m21.1/21.1 MB\u001b[0m \u001b[31m1.6 MB/s\u001b[0m eta \u001b[36m0:00:00\u001b[0m\n",
            "\u001b[?25h  Building wheel for ktml (setup.py) ... \u001b[?25l\u001b[?25hdone\n"
          ]
        }
      ],
      "source": [
        "# Run this to use from colab environment\n",
        "!pip install -q --upgrade git+https://github.com/jveenland/tm10007_ml.git"
      ]
    },
    {
      "cell_type": "markdown",
      "metadata": {
        "id": "di79_xAuRIJ7"
      },
      "source": [
        "## Data loading and cleaning\n",
        "\n",
        "Below are functions to load the dataset of your choice. After that, it is all up to you to create and evaluate a classification method. Beware, there may be missing values in these datasets. Good luck!"
      ]
    },
    {
      "cell_type": "code",
      "execution_count": 4,
      "metadata": {
        "colab": {
          "base_uri": "https://localhost:8080/"
        },
        "id": "-NE_fTbKGe5z",
        "outputId": "6f5e1d18-9fa3-4bbe-b82c-dac163ca282b"
      },
      "outputs": [
        {
          "output_type": "stream",
          "name": "stdout",
          "text": [
            "The number of samples: 187\n",
            "The number of columns: 494\n"
          ]
        }
      ],
      "source": [
        "# Data loading functions. Uncomment the one you want to use\n",
        "#from worcgist.load_data import load_data\n",
        "#from worclipo.load_data import load_data\n",
        "from worcliver.load_data import load_data\n",
        "#from ecg.load_data import load_data\n",
        "\n",
        "data = load_data()\n",
        "print(f'The number of samples: {len(data.index)}')\n",
        "print(f'The number of columns: {len(data.columns)}')\n",
        "\n"
      ]
    },
    {
      "cell_type": "code",
      "execution_count": 21,
      "metadata": {
        "id": "GC1O47MQRIJ-",
        "outputId": "2d425e35-cb39-46ce-cda7-a14b7644a035",
        "colab": {
          "base_uri": "https://localhost:8080/"
        }
      },
      "outputs": [
        {
          "output_type": "stream",
          "name": "stdout",
          "text": [
            "                 label\n",
            "ID                    \n",
            "Liver-001_0     benign\n",
            "Liver-004_0  malignant\n",
            "Liver-005_0  malignant\n",
            "Liver-006_0     benign\n",
            "Liver-008_0  malignant\n",
            "...                ...\n",
            "Liver-143_0     benign\n",
            "Liver-144_0  malignant\n",
            "Liver-145_0     benign\n",
            "Liver-146_0     benign\n",
            "Liver-149_0  malignant\n",
            "\n",
            "[120 rows x 1 columns]\n",
            "The number of samples: 120\n",
            "test                 label\n",
            "ID                    \n",
            "Liver-002_0     benign\n",
            "Liver-003_0     benign\n",
            "Liver-013_0     benign\n",
            "Liver-024_0  malignant\n",
            "Liver-034_0  malignant\n",
            "Liver-038_0     benign\n",
            "Liver-040_0     benign\n",
            "Liver-045_0     benign\n",
            "Liver-053_0     benign\n",
            "Liver-061_0  malignant\n",
            "Liver-067_0     benign\n",
            "Liver-072_0  malignant\n",
            "Liver-073_0  malignant\n",
            "Liver-081_0  malignant\n",
            "Liver-084_0     benign\n",
            "Liver-091_0  malignant\n",
            "Liver-095_0  malignant\n",
            "Liver-096_0     benign\n",
            "Liver-100_0     benign\n",
            "Liver-104_0  malignant\n",
            "Liver-107_0  malignant\n",
            "Liver-111_0     benign\n",
            "Liver-112_0  malignant\n",
            "Liver-127_0     benign\n",
            "Liver-131_0     benign\n",
            "Liver-132_0  malignant\n",
            "Liver-133_0  malignant\n",
            "Liver-134_0  malignant\n",
            "Liver-136_0     benign\n",
            "Liver-139_0     benign\n",
            "Liver-149_0  malignant\n",
            "Liver-152_0  malignant\n",
            "Liver-154_0  malignant\n",
            "Liver-156_0     benign\n",
            "Liver-167_0     benign\n",
            "Liver-175_0  malignant\n",
            "Liver-182_0  malignant\n",
            "The number of samples: 37\n",
            "val                 label\n",
            "ID                    \n",
            "Liver-002_0     benign\n",
            "Liver-003_0     benign\n",
            "Liver-007_0     benign\n",
            "Liver-009_0     benign\n",
            "Liver-020_0  malignant\n",
            "Liver-025_0     benign\n",
            "Liver-028_0  malignant\n",
            "Liver-031_0  malignant\n",
            "Liver-035_0     benign\n",
            "Liver-064_0  malignant\n",
            "Liver-068_0     benign\n",
            "Liver-076_0  malignant\n",
            "Liver-077_0  malignant\n",
            "Liver-079_0  malignant\n",
            "Liver-081_0  malignant\n",
            "Liver-084_0     benign\n",
            "Liver-091_0  malignant\n",
            "Liver-095_0  malignant\n",
            "Liver-097_0  malignant\n",
            "Liver-098_0     benign\n",
            "Liver-100_0     benign\n",
            "Liver-116_0  malignant\n",
            "Liver-118_0     benign\n",
            "Liver-120_0     benign\n",
            "Liver-121_0     benign\n",
            "Liver-132_0  malignant\n",
            "Liver-139_0     benign\n",
            "Liver-147_0     benign\n",
            "Liver-148_0  malignant\n",
            "The number of samples: 29\n"
          ]
        }
      ],
      "source": [
        "import numpy as np\n",
        "import pandas as pd\n",
        "from sklearn.model_selection import train_test_split, StratifiedKFold\n",
        "\n",
        "# Pre processing\n",
        "#\n",
        "# Splitting\n",
        "\n",
        "df_data = pd.DataFrame(data)\n",
        "\n",
        "X = df_data.iloc[:, 1:]  # Feature set\n",
        "y = df_data.iloc[:, :1]  # Classification Benign/Malignant\n",
        "\n",
        "# Stratified K-Fold Split\n",
        "skf = StratifiedKFold(n_splits=5, shuffle=True, random_state=40)\n",
        "\n",
        "# Splitting data in Test and Train set\n",
        "for train_index, test_index in skf.split(X, y):\n",
        "    X_pre_train, X_test = X.iloc[train_index], X.iloc[test_index]\n",
        "    y_pre_train, y_test = y.iloc[train_index], y.iloc[test_index]\n",
        "\n",
        "# Splitting data in Train and validation set\n",
        "for train_index, test_index in skf.split(X_pre_train, y_pre_train):\n",
        "    X_train, X_val = X.iloc[train_index], X.iloc[test_index]\n",
        "    y_train, y_val = y.iloc[train_index], y.iloc[test_index]\n",
        "\n",
        "print(y_train)\n",
        "print(f'The number of samples: {len(y_train)}')\n",
        "print(f'test{y_test}')\n",
        "print(f'The number of samples: {len(y_test)}')\n",
        "print(f'val{y_val}')\n",
        "print(f'The number of samples: {len(y_val)}')\n"
      ]
    }
  ],
  "metadata": {
    "colab": {
      "name": "assignment.ipynb",
      "provenance": []
    },
    "kernelspec": {
      "display_name": "Python 3",
      "language": "python",
      "name": "python3"
    },
    "language_info": {
      "codemirror_mode": {
        "name": "ipython",
        "version": 3
      },
      "file_extension": ".py",
      "mimetype": "text/x-python",
      "name": "python",
      "nbconvert_exporter": "python",
      "pygments_lexer": "ipython3",
      "version": "3.8.5"
    }
  },
  "nbformat": 4,
  "nbformat_minor": 0
}