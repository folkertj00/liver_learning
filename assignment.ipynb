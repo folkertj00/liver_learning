{
  "cells": [
    {
      "cell_type": "markdown",
      "metadata": {
        "id": "7SXpaKwwGe5x"
      },
      "source": [
        "# TM10007 Assignment template"
      ]
    },
    {
      "cell_type": "code",
      "execution_count": 1,
      "metadata": {
        "colab": {
          "base_uri": "https://localhost:8080/"
        },
        "id": "CiDn2Sk-VWqE",
        "outputId": "eaee9d0d-6d83-443e-d4ff-45c371525f05"
      },
      "outputs": [
        {
          "output_type": "stream",
          "name": "stdout",
          "text": [
            "  Preparing metadata (setup.py) ... \u001b[?25l\u001b[?25hdone\n",
            "\u001b[2K     \u001b[90m━━━━━━━━━━━━━━━━━━━━━━━━━━━━━━━━━━━━━━━━\u001b[0m \u001b[32m23.7/23.7 MB\u001b[0m \u001b[31m8.6 MB/s\u001b[0m eta \u001b[36m0:00:00\u001b[0m\n",
            "\u001b[2K     \u001b[90m━━━━━━━━━━━━━━━━━━━━━━━━━━━━━━━━━━━━━━━━\u001b[0m \u001b[32m823.6/823.6 kB\u001b[0m \u001b[31m23.1 MB/s\u001b[0m eta \u001b[36m0:00:00\u001b[0m\n",
            "\u001b[2K     \u001b[90m━━━━━━━━━━━━━━━━━━━━━━━━━━━━━━━━━━━━━━━━\u001b[0m \u001b[32m14.1/14.1 MB\u001b[0m \u001b[31m22.7 MB/s\u001b[0m eta \u001b[36m0:00:00\u001b[0m\n",
            "\u001b[2K     \u001b[90m━━━━━━━━━━━━━━━━━━━━━━━━━━━━━━━━━━━━━━━━\u001b[0m \u001b[32m731.7/731.7 MB\u001b[0m \u001b[31m726.7 kB/s\u001b[0m eta \u001b[36m0:00:00\u001b[0m\n",
            "\u001b[2K     \u001b[90m━━━━━━━━━━━━━━━━━━━━━━━━━━━━━━━━━━━━━━━━\u001b[0m \u001b[32m410.6/410.6 MB\u001b[0m \u001b[31m2.8 MB/s\u001b[0m eta \u001b[36m0:00:00\u001b[0m\n",
            "\u001b[2K     \u001b[90m━━━━━━━━━━━━━━━━━━━━━━━━━━━━━━━━━━━━━━━━\u001b[0m \u001b[32m121.6/121.6 MB\u001b[0m \u001b[31m8.5 MB/s\u001b[0m eta \u001b[36m0:00:00\u001b[0m\n",
            "\u001b[2K     \u001b[90m━━━━━━━━━━━━━━━━━━━━━━━━━━━━━━━━━━━━━━━━\u001b[0m \u001b[32m56.5/56.5 MB\u001b[0m \u001b[31m11.0 MB/s\u001b[0m eta \u001b[36m0:00:00\u001b[0m\n",
            "\u001b[2K     \u001b[90m━━━━━━━━━━━━━━━━━━━━━━━━━━━━━━━━━━━━━━━━\u001b[0m \u001b[32m124.2/124.2 MB\u001b[0m \u001b[31m6.9 MB/s\u001b[0m eta \u001b[36m0:00:00\u001b[0m\n",
            "\u001b[2K     \u001b[90m━━━━━━━━━━━━━━━━━━━━━━━━━━━━━━━━━━━━━━━━\u001b[0m \u001b[32m196.0/196.0 MB\u001b[0m \u001b[31m2.3 MB/s\u001b[0m eta \u001b[36m0:00:00\u001b[0m\n",
            "\u001b[2K     \u001b[90m━━━━━━━━━━━━━━━━━━━━━━━━━━━━━━━━━━━━━━━━\u001b[0m \u001b[32m166.0/166.0 MB\u001b[0m \u001b[31m2.4 MB/s\u001b[0m eta \u001b[36m0:00:00\u001b[0m\n",
            "\u001b[2K     \u001b[90m━━━━━━━━━━━━━━━━━━━━━━━━━━━━━━━━━━━━━━━━\u001b[0m \u001b[32m99.1/99.1 kB\u001b[0m \u001b[31m12.1 MB/s\u001b[0m eta \u001b[36m0:00:00\u001b[0m\n",
            "\u001b[2K     \u001b[90m━━━━━━━━━━━━━━━━━━━━━━━━━━━━━━━━━━━━━━━━\u001b[0m \u001b[32m21.1/21.1 MB\u001b[0m \u001b[31m63.2 MB/s\u001b[0m eta \u001b[36m0:00:00\u001b[0m\n",
            "\u001b[?25h  Building wheel for ktml (setup.py) ... \u001b[?25l\u001b[?25hdone\n"
          ]
        }
      ],
      "source": [
        "# Run this to use from colab environment\n",
        "!pip install -q --upgrade git+https://github.com/jveenland/tm10007_ml.git"
      ]
    },
    {
      "cell_type": "markdown",
      "metadata": {
        "id": "di79_xAuRIJ7"
      },
      "source": [
        "## Data loading and cleaning\n",
        "\n",
        "Below are functions to load the dataset of your choice. After that, it is all up to you to create and evaluate a classification method. Beware, there may be missing values in these datasets. Good luck!"
      ]
    },
    {
      "cell_type": "code",
      "execution_count": 2,
      "metadata": {
        "colab": {
          "base_uri": "https://localhost:8080/"
        },
        "id": "-NE_fTbKGe5z",
        "outputId": "15881fbf-5579-4e3f-baad-b1045ab35121"
      },
      "outputs": [
        {
          "output_type": "stream",
          "name": "stdout",
          "text": [
            "The number of samples: 186\n",
            "The number of columns: 494\n",
            "Total amount of missing data: 0\n"
          ]
        }
      ],
      "source": [
        "# Data loading functions. Uncomment the one you want to use\n",
        "#from worcgist.load_data import load_data\n",
        "#from worclipo.load_data import load_data\n",
        "from worcliver.load_data import load_data\n",
        "#from ecg.load_data import load_data\n",
        "\n",
        "data = load_data()\n",
        "print(f'The number of samples: {len(data.index)}')\n",
        "print(f'The number of columns: {len(data.columns)}')\n",
        "\n",
        "# A test if missing data is found correctly\n",
        "# print(data.iloc[5:8, 1:2])\n",
        "# data.iloc[5:8, 1:2] = None\n",
        "# print(data.iloc[5:8, 1:2])\n",
        "\n",
        "# Checking for missing data with only specific columns for rows with missing data\n",
        "missing_data_total = data.isna().sum().sum()\n",
        "rows_with_missing = data[data.isna().any(axis=1)]\n",
        "print(f'Total amount of missing data: {missing_data_total}')\n",
        "for index, row in rows_with_missing.iterrows():\n",
        "    missing_columns = row[row.isna()].index\n",
        "    print(f\"Data missing in row: {index}, and column: {', '.join(missing_columns)}\")\n"
      ]
    },
    {
      "cell_type": "markdown",
      "source": [
        "**Imports**\n",
        "\n",
        "Import all modules necessary for this Jupyter Notebook\n"
      ],
      "metadata": {
        "id": "uydUOxjsfMP7"
      }
    },
    {
      "cell_type": "code",
      "source": [
        "import numpy as np\n",
        "import pandas as pd\n",
        "import seaborn\n",
        "import matplotlib.pyplot as plt\n",
        "from sklearn.model_selection import train_test_split, StratifiedKFold\n",
        "from sklearn import datasets as ds\n",
        "\n",
        "# Classifiers\n",
        "from sklearn import model_selection\n",
        "from sklearn import metrics\n",
        "from sklearn import feature_selection\n",
        "from sklearn import preprocessing\n",
        "from sklearn import neighbors\n",
        "from sklearn import svm\n",
        "from sklearn import decomposition\n",
        "\n",
        "# Metrics\n",
        "from sklearn.metrics import confusion_matrix\n",
        "from sklearn.metrics import mean_absolute_error\n",
        "from sklearn.metrics import r2_score\n",
        "\n",
        "# Basic Classifiers\n",
        "from sklearn.naive_bayes import GaussianNB\n",
        "from sklearn.discriminant_analysis import LinearDiscriminantAnalysis\n",
        "from sklearn.discriminant_analysis import QuadraticDiscriminantAnalysis\n",
        "from sklearn.linear_model import LogisticRegression\n",
        "from sklearn.linear_model import SGDClassifier\n",
        "from sklearn.tree import DecisionTreeClassifier\n",
        "from sklearn.neighbors import KNeighborsClassifier\n"
      ],
      "metadata": {
        "id": "bk7r6o7hfLVK"
      },
      "execution_count": 3,
      "outputs": []
    },
    {
      "cell_type": "markdown",
      "source": [
        "**Definitions applied in this Jupyter Notebook**"
      ],
      "metadata": {
        "id": "YDf4pxqtSyVC"
      }
    },
    {
      "cell_type": "code",
      "source": [
        "def colorplot(clf, ax, x, y, h=100, precomputer=None):\n",
        "    '''\n",
        "    Overlay the decision areas as colors in an axes.\n",
        "\n",
        "    Input:\n",
        "        clf: trained classifier\n",
        "        ax: axis to overlay color mesh on\n",
        "        x: feature on x-axis\n",
        "        y: feature on y-axis\n",
        "        h(optional): steps in the mesh\n",
        "    '''\n",
        "    # Create a meshgrid the size of the axis\n",
        "    xstep = (x.max() - x.min() ) / 20.0\n",
        "    ystep = (y.max() - y.min() ) / 20.0\n",
        "    x_min, x_max = x.min() - xstep, x.max() + xstep\n",
        "    y_min, y_max = y.min() - ystep, y.max() + ystep\n",
        "    h = max((x_max - x_min, y_max - y_min))/h\n",
        "    xx, yy = np.meshgrid(np.arange(x_min, x_max, h),\n",
        "                         np.arange(y_min, y_max, h))\n",
        "\n",
        "    features = np.c_[xx.ravel(), yy.ravel()]\n",
        "    if precomputer is not None:\n",
        "        if type(precomputer) is RBFSampler:\n",
        "            features = precomputer.transform(features)\n",
        "        elif precomputer is rbf_kernel:\n",
        "            features = rbf_kernel(features, X)\n",
        "\n",
        "    # Plot the decision boundary. For that, we will assign a color to each\n",
        "    # point in the mesh [x_min, x_max]x[y_min, y_max].\n",
        "    if hasattr(clf, \"decision_function\"):\n",
        "        Z = clf.decision_function(features)\n",
        "    else:\n",
        "        Z = clf.predict_proba(features)\n",
        "    if len(Z.shape) > 1:\n",
        "        Z = Z[:, 1]\n",
        "\n",
        "    # Put the result into a color plot\n",
        "    cm = plt.cm.RdBu_r\n",
        "    Z = Z.reshape(xx.shape)\n",
        "    ax.contourf(xx, yy, Z, cmap=cm, alpha=.8)\n",
        "    del xx, yy, x_min, x_max, y_min, y_max, Z, cm\n"
      ],
      "metadata": {
        "id": "6NgZNQSGSvoz"
      },
      "execution_count": 4,
      "outputs": []
    },
    {
      "cell_type": "markdown",
      "source": [
        "**Data Visualization**"
      ],
      "metadata": {
        "id": "jLhtqHO7ew2s"
      }
    },
    {
      "cell_type": "code",
      "source": [
        "# Code for data visualization"
      ],
      "metadata": {
        "id": "XDTeNvt6ewWq"
      },
      "execution_count": 5,
      "outputs": []
    },
    {
      "cell_type": "markdown",
      "source": [
        "**PRE PROCESSING**\n",
        "\n",
        "Pre processing contains the following: ..."
      ],
      "metadata": {
        "id": "2IW8GCzuKt9V"
      }
    },
    {
      "cell_type": "code",
      "execution_count": 6,
      "metadata": {
        "id": "GC1O47MQRIJ-",
        "outputId": "27893c19-7f7a-4504-ea7c-5d6e2707b680",
        "colab": {
          "base_uri": "https://localhost:8080/"
        }
      },
      "outputs": [
        {
          "output_type": "stream",
          "name": "stderr",
          "text": [
            "<ipython-input-6-fcfbe0828860>:13: SettingWithCopyWarning: \n",
            "A value is trying to be set on a copy of a slice from a DataFrame.\n",
            "Try using .loc[row_indexer,col_indexer] = value instead\n",
            "\n",
            "See the caveats in the documentation: https://pandas.pydata.org/pandas-docs/stable/user_guide/indexing.html#returning-a-view-versus-a-copy\n",
            "  y['label'] = y.replace({'benign': 0, 'malignant': 1})\n"
          ]
        }
      ],
      "source": [
        "# import numpy as np\n",
        "# import pandas as pd\n",
        "# from sklearn.model_selection import train_test_split, StratifiedKFold\n",
        "\n",
        "# Pre processing\n",
        "#\n",
        "# Splitting\n",
        "df_data = pd.DataFrame(data)\n",
        "X = df_data.iloc[:, 1:]  # Feature set\n",
        "y = df_data.iloc[:, :1]  # Classification Benign/Malignant\n",
        "\n",
        "# Change classification (Benign/Malignant) to binary values\n",
        "y['label'] = y.replace({'benign': 0, 'malignant': 1})\n",
        "\n",
        "# Stratified K-Fold Split\n",
        "skf = StratifiedKFold(n_splits=5, shuffle=True, random_state=40)\n",
        "\n",
        "# Splitting data in Test and Train set\n",
        "for train_index, test_index in skf.split(X, y):\n",
        "    X_pre_train, X_test = X.iloc[train_index], X.iloc[test_index]\n",
        "    y_pre_train, y_test = y.iloc[train_index], y.iloc[test_index]\n",
        "\n",
        "# Splitting data in Train and validation set\n",
        "for train_index, test_index in skf.split(X_pre_train, y_pre_train):\n",
        "    X_train, X_val = X.iloc[train_index], X.iloc[test_index]\n",
        "    y_train, y_val = y.iloc[train_index], y.iloc[test_index]\n",
        "\n",
        "# print(y_train)\n",
        "# print(f'The number of samples: {len(y_train)}')\n",
        "# print(f'test{y_test}')\n",
        "# print(f'The number of samples: {len(y_test)}')\n",
        "# print(f'val{y_val}')\n",
        "# print(f'The number of samples: {len(y_val)}')\n"
      ]
    },
    {
      "cell_type": "markdown",
      "source": [
        "**Scaling**"
      ],
      "metadata": {
        "id": "Y_qg4_ndMEFU"
      }
    },
    {
      "cell_type": "code",
      "source": [
        "# Scaling\n",
        "\n",
        "# # General packages\n",
        "# import numpy as np\n",
        "# import pandas as pd\n",
        "# import matplotlib.pyplot as plt\n",
        "# from sklearn import datasets as ds\n",
        "# import seaborn\n",
        "\n",
        "# # Classifiers\n",
        "# from sklearn import model_selection\n",
        "# from sklearn import metrics\n",
        "# from sklearn import feature_selection\n",
        "# from sklearn import preprocessing\n",
        "# from sklearn import neighbors\n",
        "# from sklearn import svm\n",
        "\n",
        "# from sklearn import decomposition\n",
        "\n",
        "# Scale the data to be normal\n",
        "scaler = preprocessing.StandardScaler()\n",
        "scaler.fit(X_train)\n",
        "X_train_scaled = scaler.transform(X_train)\n",
        "X_val_scaled = scaler.transform(X_val)\n",
        "X_test_scaled = scaler.transform(X_test)\n",
        "\n",
        "# # Feature selection\n",
        "# # Create the RFE object and compute a cross-validated score.\n",
        "# svc = svm.SVC(kernel=\"linear\")\n",
        "\n",
        "# # classifications\n",
        "# rfecv = feature_selection.RFECV(\n",
        "#     estimator=svc, step=1,\n",
        "#     cv=model_selection.StratifiedKFold(4),\n",
        "#     scoring='roc_auc')\n",
        "# rfecv.fit(X, y)\n",
        "\n",
        "# # Plot number of features VS. cross-validation scores\n",
        "# plt.figure()\n",
        "# plt.xlabel(\"Number of features selected\")\n",
        "# plt.ylabel(\"Cross validation score (nb of correct classifications)\")\n",
        "# plt.plot(range(1, len(rfecv.cv_results_[\"mean_test_score\"]) + 1), rfecv.cv_results_[\"mean_test_score\"])\n",
        "# plt.show()\n",
        "\n",
        "# Perform a PCA\n",
        "pca = decomposition.PCA(n_components=2)\n",
        "pca.fit(X_train_scaled)\n",
        "X_train_pca = pca.transform(X_train_scaled)\n",
        "X_test_pca = pca.transform(X_test_scaled)\n",
        "\n",
        "y_train_list = y_train['label'].tolist()\n",
        "print(y_train_list)"
      ],
      "metadata": {
        "id": "nSHsBhpSKlBI",
        "outputId": "1e092c7d-ec5c-49b8-eb0f-40a242ef2a84",
        "colab": {
          "base_uri": "https://localhost:8080/"
        }
      },
      "execution_count": 7,
      "outputs": [
        {
          "output_type": "stream",
          "name": "stdout",
          "text": [
            "[0, 1, 1, 0, 1, 0, 1, 0, 0, 1, 1, 1, 0, 0, 0, 1, 1, 1, 1, 1, 1, 1, 0, 1, 1, 1, 1, 1, 0, 1, 0, 1, 0, 0, 1, 0, 0, 1, 1, 1, 1, 1, 1, 0, 0, 0, 1, 1, 0, 0, 1, 1, 0, 1, 1, 0, 0, 0, 1, 0, 1, 1, 1, 0, 1, 0, 0, 0, 1, 0, 0, 1, 0, 1, 0, 1, 1, 0, 0, 1, 0, 1, 1, 0, 0, 1, 0, 0, 1, 0, 1, 1, 0, 1, 0, 1, 0, 0, 0, 1, 0, 0, 1, 1, 0, 0, 1, 1, 0, 0, 0, 0, 0, 1, 0, 0, 1, 0, 0, 1]\n"
          ]
        }
      ]
    },
    {
      "cell_type": "markdown",
      "source": [
        "# Classifiers"
      ],
      "metadata": {
        "id": "yUkgqj26ejAk"
      }
    },
    {
      "cell_type": "markdown",
      "source": [
        "**Basic Classifiers**"
      ],
      "metadata": {
        "id": "KWAoHyyrP5ki"
      }
    },
    {
      "cell_type": "code",
      "source": [
        "# # General packages\n",
        "# import numpy as np\n",
        "# import matplotlib.pyplot as plt\n",
        "# from sklearn import datasets as ds\n",
        "# from sklearn import metrics\n",
        "\n",
        "# # Metrics\n",
        "# from sklearn.metrics import confusion_matrix\n",
        "# from sklearn.metrics import mean_absolute_error\n",
        "# from sklearn.metrics import r2_score\n",
        "\n",
        "# # Basic Classifiers\n",
        "# from sklearn.naive_bayes import GaussianNB\n",
        "# from sklearn.discriminant_analysis import LinearDiscriminantAnalysis\n",
        "# from sklearn.discriminant_analysis import QuadraticDiscriminantAnalysis\n",
        "# from sklearn.linear_model import LogisticRegression\n",
        "# from sklearn.linear_model import SGDClassifier\n",
        "# from sklearn.tree import DecisionTreeClassifier\n",
        "# from sklearn.neighbors import KNeighborsClassifier\n",
        "\n",
        "# Linear classifier\n",
        "fig = plt.figure(figsize=(8, 8))\n",
        "ax = fig.add_subplot(111)\n",
        "ax.set_title(\"Two informative features, one cluster per class\",\n",
        "             fontsize='small')\n",
        "ax.scatter(X_train_pca[:, 0], X_train_pca[:, 1], marker='o', c=y_train_list,\n",
        "           s=25, edgecolor='k', cmap=plt.cm.Paired)\n",
        "lda = LinearDiscriminantAnalysis()\n",
        "lda = lda.fit(X_train_pca, y_train_list)\n",
        "y_pred = lda.predict(X_train_pca)\n",
        "colorplot(lda, ax, X_train_pca[:, 0], X_train_pca[:, 1])\n",
        "print(\"Number of mislabeled points out of a total %d points : %d\" % (X_train_pca.shape[0], (y_train_list != y_pred).sum()))\n"
      ],
      "metadata": {
        "id": "w7hIfsfiP9Q8",
        "outputId": "208b6668-23af-4ab0-9a18-06cb6500f316",
        "colab": {
          "base_uri": "https://localhost:8080/",
          "height": 712
        }
      },
      "execution_count": 8,
      "outputs": [
        {
          "output_type": "stream",
          "name": "stdout",
          "text": [
            "Number of mislabeled points out of a total 120 points : 59\n"
          ]
        },
        {
          "output_type": "display_data",
          "data": {
            "text/plain": [
              "<Figure size 800x800 with 1 Axes>"
            ],
            "image/png": "[encoded data removed]"
          },
          "metadata": {}
        }
      ]
    },
    {
      "cell_type": "markdown",
      "source": [
        "**Basic classifiers: Gaussian, LDA, QDA, Logistic regression, SDG, KNN & Decision Tree**"
      ],
      "metadata": {
        "id": "3DSKEvQgYULm"
      }
    },
    {
      "cell_type": "code",
      "source": [
        "# Plot several basic classifiers and plot the result. Define misclasses\n",
        "clsfs = [LinearDiscriminantAnalysis(),QuadraticDiscriminantAnalysis(),GaussianNB(),\n",
        "         LogisticRegression(),SGDClassifier(),KNeighborsClassifier(),DecisionTreeClassifier()]\n",
        "Xs = X_train_pca\n",
        "Ys = y_train_list\n",
        "clfs_fit = list()\n",
        "\n",
        "# First make a plot without classifiers:\n",
        "fig = plt.figure(figsize=(21,3*len(clsfs)))\n",
        "num = 0  # Iteration number for the subplots\n",
        "\n",
        "for num in range(0,7):\n",
        "    ax = fig.add_subplot(21, 3, num + 1)\n",
        "    ax.scatter(Xs[:, 0], Xs[:, 1], marker='o', c=Ys,\n",
        "            s=25, edgecolor='k', cmap=plt.cm.Paired)\n",
        "\n",
        "\n",
        "# Fit the classifiers and add them to the plot\n",
        "num=0\n",
        "Xt=list()\n",
        "Yt=list()\n",
        "for clf in clsfs:\n",
        "    # Fit classifier\n",
        "    clf.fit(Xs,Ys)\n",
        "    y_pred=clf.predict(Xs)\n",
        "    # Predict labels using fitted classifier\n",
        "\n",
        "    # Make scatterplot of features\n",
        "    ax = fig.add_subplot(3, 3, num + 1)\n",
        "    ax.scatter(Xs[:, 0], Xs[:, 1], marker='o', c=Ys,\n",
        "            s=25, edgecolor='k', cmap=plt.cm.Paired)\n",
        "    colorplot(clf, ax, Xs[:,0], Xs[:,1])\n",
        "    # Add overlay through colorplot function\n",
        "    t=(f\"{clf}, Misclass: %d / %d\" % ((Ys!=y_pred).sum(), Xs.shape[0]))\n",
        "    ax.set_title(t)\n",
        "    num+=1\n",
        "\n",
        "    clfs_fit.append(clf)\n",
        "    Xt.append(Xs)\n",
        "    Yt.append(Ys)\n"
      ],
      "metadata": {
        "id": "rZGT6b7nYUAs"
      },
      "execution_count": null,
      "outputs": []
    },
    {
      "cell_type": "markdown",
      "source": [
        "**KNN**"
      ],
      "metadata": {
        "id": "oksvSMtzPmu5"
      }
    },
    {
      "cell_type": "code",
      "source": [
        "# Fit kNN\n",
        "knn = neighbors.KNeighborsClassifier(n_neighbors=15)\n",
        "knn.fit(X_train_pca, y_train)\n",
        "score_train = knn.score(X_train_pca, y_train)\n",
        "score_test = knn.score(X_test_pca, y_test)\n",
        "\n",
        "# Print result\n",
        "print(f\"Training result: {score_train}\")\n",
        "print(f\"Test result: {score_test}\")"
      ],
      "metadata": {
        "id": "SFMvt4EuPjUx",
        "colab": {
          "base_uri": "https://localhost:8080/"
        },
        "outputId": "98c4cd4e-696b-4e03-80fa-9233e2f14a50"
      },
      "execution_count": 10,
      "outputs": [
        {
          "output_type": "stream",
          "name": "stdout",
          "text": [
            "Training result: 0.6416666666666667\n",
            "Test result: 0.5945945945945946\n"
          ]
        },
        {
          "output_type": "stream",
          "name": "stderr",
          "text": [
            "/usr/local/lib/python3.10/dist-packages/sklearn/neighbors/_classification.py:215: DataConversionWarning: A column-vector y was passed when a 1d array was expected. Please change the shape of y to (n_samples,), for example using ravel().\n",
            "  return self._fit(X, y)\n"
          ]
        }
      ]
    },
    {
      "cell_type": "markdown",
      "source": [
        "## Test the metrics on the used classifiers"
      ],
      "metadata": {
        "id": "pfcu41B0Xhyj"
      }
    },
    {
      "cell_type": "code",
      "source": [
        "df_data = pd.DataFrame(data)\n",
        "X1 = df_data.iloc[:, 1:]        # Feature set\n",
        "y_truth = df_data.iloc[:, :1]   # Classification Benign/Malignant\n",
        "gnb = GaussianNB()\n",
        "gnb = gnb.fit(X1, y_truth)\n",
        "y_pred = gnb.predict(X1)\n",
        "all_results={}\n",
        "\n",
        "for clf, X1, Y1 in zip(clfs_fit, Xt, Yt):\n",
        "    y_pred=clf.predict(X1)\n",
        "\n",
        "    if hasattr(clf, 'predict_proba'):\n",
        "    # The first column gives the probability for class = 0, so we take\n",
        "    # the second which gives the probability class = 1:\n",
        "        y_score = clf.predict_proba(X1)[:, 1]\n",
        "    else:\n",
        "        y_score = y_pred\n",
        "\n",
        "# The hasattr function checks whether an object, function or package has\n",
        "# a certain attribute. This attribute can be a subfunction, or again an\n",
        "# object or function, but also things like scalars or strings.\n",
        "\n",
        "    auc=metrics.roc_auc_score(Y1, y_score)\n",
        "    accuracy=metrics.accuracy_score(Y1, y_pred)\n",
        "    F1=metrics.f1_score(Y1,y_pred)\n",
        "    precision=metrics.precision_score(Y1,y_pred)\n",
        "    recall=metrics.recall_score(Y1, y_pred)\n",
        "# accuracy, AUC, f1score, precision, recall\n",
        "    result = [auc,accuracy,F1,precision,recall]\n",
        "    all_results[clf]=result\n",
        "    # print(type(clf))\n",
        "    # print('Acc:' +str(accuracy))\n",
        "    # print('AUC:' +str(auc))\n",
        "    # print('F1:' +str(F1))\n",
        "    # print('precision:' +str(precision))\n",
        "    # print('recall:' +str(recall))\n",
        "results_pd = pd.DataFrame(all_results)\n",
        "results_pd.index = ['auc','accuracy','F1','precision','recall']\n",
        "results_pd"
      ],
      "metadata": {
        "id": "RawKT_IfX82t",
        "outputId": "c7e6e6a6-4d63-423a-84bd-801dc6ab84c5",
        "colab": {
          "base_uri": "https://localhost:8080/",
          "height": 261
        }
      },
      "execution_count": 35,
      "outputs": [
        {
          "output_type": "stream",
          "name": "stderr",
          "text": [
            "/usr/local/lib/python3.10/dist-packages/sklearn/utils/validation.py:1143: DataConversionWarning: A column-vector y was passed when a 1d array was expected. Please change the shape of y to (n_samples, ), for example using ravel().\n",
            "  y = column_or_1d(y, warn=True)\n"
          ]
        },
        {
          "output_type": "execute_result",
          "data": {
            "text/plain": [
              "           LinearDiscriminantAnalysis()  QuadraticDiscriminantAnalysis()  \\\n",
              "auc                            0.518755                         0.555710   \n",
              "accuracy                       0.508333                         0.516667   \n",
              "F1                             0.581560                         0.442308   \n",
              "precision                      0.512500                         0.534884   \n",
              "recall                         0.672131                         0.377049   \n",
              "\n",
              "           GaussianNB()  LogisticRegression()  SGDClassifier()  \\\n",
              "auc            0.533204              0.518755         0.467352   \n",
              "accuracy       0.500000              0.500000         0.466667   \n",
              "F1             0.423077              0.571429         0.448276   \n",
              "precision      0.511628              0.506329         0.472727   \n",
              "recall         0.360656              0.655738         0.426230   \n",
              "\n",
              "           KNeighborsClassifier()  DecisionTreeClassifier()  \n",
              "auc                      0.715615                       1.0  \n",
              "accuracy                 0.625000                       1.0  \n",
              "F1                       0.640000                       1.0  \n",
              "precision                0.625000                       1.0  \n",
              "recall                   0.655738                       1.0  "
            ],
            "text/html": [
              "\n",
              "  <div id=\"df-0537b13c-7580-4f4f-a909-9100fe227c08\" class=\"colab-df-container\">\n",
              "    <div>\n",
              "<style scoped>\n",
              "    .dataframe tbody tr th:only-of-type {\n",
              "        vertical-align: middle;\n",
              "    }\n",
              "\n",
              "    .dataframe tbody tr th {\n",
              "        vertical-align: top;\n",
              "    }\n",
              "\n",
              "    .dataframe thead th {\n",
              "        text-align: right;\n",
              "    }\n",
              "</style>\n",
              "<table border=\"1\" class=\"dataframe\">\n",
              "  <thead>\n",
              "    <tr style=\"text-align: right;\">\n",
              "      <th></th>\n",
              "      <th>LinearDiscriminantAnalysis()</th>\n",
              "      <th>QuadraticDiscriminantAnalysis()</th>\n",
              "      <th>GaussianNB()</th>\n",
              "      <th>LogisticRegression()</th>\n",
              "      <th>SGDClassifier()</th>\n",
              "      <th>KNeighborsClassifier()</th>\n",
              "      <th>DecisionTreeClassifier()</th>\n",
              "    </tr>\n",
              "  </thead>\n",
              "  <tbody>\n",
              "    <tr>\n",
              "      <th>auc</th>\n",
              "      <td>0.518755</td>\n",
              "      <td>0.555710</td>\n",
              "      <td>0.533204</td>\n",
              "      <td>0.518755</td>\n",
              "      <td>0.467352</td>\n",
              "      <td>0.715615</td>\n",
              "      <td>1.0</td>\n",
              "    </tr>\n",
              "    <tr>\n",
              "      <th>accuracy</th>\n",
              "      <td>0.508333</td>\n",
              "      <td>0.516667</td>\n",
              "      <td>0.500000</td>\n",
              "      <td>0.500000</td>\n",
              "      <td>0.466667</td>\n",
              "      <td>0.625000</td>\n",
              "      <td>1.0</td>\n",
              "    </tr>\n",
              "    <tr>\n",
              "      <th>F1</th>\n",
              "      <td>0.581560</td>\n",
              "      <td>0.442308</td>\n",
              "      <td>0.423077</td>\n",
              "      <td>0.571429</td>\n",
              "      <td>0.448276</td>\n",
              "      <td>0.640000</td>\n",
              "      <td>1.0</td>\n",
              "    </tr>\n",
              "    <tr>\n",
              "      <th>precision</th>\n",
              "      <td>0.512500</td>\n",
              "      <td>0.534884</td>\n",
              "      <td>0.511628</td>\n",
              "      <td>0.506329</td>\n",
              "      <td>0.472727</td>\n",
              "      <td>0.625000</td>\n",
              "      <td>1.0</td>\n",
              "    </tr>\n",
              "    <tr>\n",
              "      <th>recall</th>\n",
              "      <td>0.672131</td>\n",
              "      <td>0.377049</td>\n",
              "      <td>0.360656</td>\n",
              "      <td>0.655738</td>\n",
              "      <td>0.426230</td>\n",
              "      <td>0.655738</td>\n",
              "      <td>1.0</td>\n",
              "    </tr>\n",
              "  </tbody>\n",
              "</table>\n",
              "</div>\n",
              "    <div class=\"colab-df-buttons\">\n",
              "\n",
              "  <div class=\"colab-df-container\">\n",
              "    <button class=\"colab-df-convert\" onclick=\"convertToInteractive('df-0537b13c-7580-4f4f-a909-9100fe227c08')\"\n",
              "            title=\"Convert this dataframe to an interactive table.\"\n",
              "            style=\"display:none;\">\n",
              "\n",
              "  <svg xmlns=\"http://www.w3.org/2000/svg\" height=\"24px\" viewBox=\"0 -960 960 960\">\n",
              "    <path d=\"M120-120v-720h720v720H120Zm60-500h600v-160H180v160Zm220 220h160v-160H400v160Zm0 220h160v-160H400v160ZM180-400h160v-160H180v160Zm440 0h160v-160H620v160ZM180-180h160v-160H180v160Zm440 0h160v-160H620v160Z\"/>\n",
              "  </svg>\n",
              "    </button>\n",
              "\n",
              "  <style>\n",
              "    .colab-df-container {\n",
              "      display:flex;\n",
              "      gap: 12px;\n",
              "    }\n",
              "\n",
              "    .colab-df-convert {\n",
              "      background-color: #E8F0FE;\n",
              "      border: none;\n",
              "      border-radius: 50%;\n",
              "      cursor: pointer;\n",
              "      display: none;\n",
              "      fill: #1967D2;\n",
              "      height: 32px;\n",
              "      padding: 0 0 0 0;\n",
              "      width: 32px;\n",
              "    }\n",
              "\n",
              "    .colab-df-convert:hover {\n",
              "      background-color: #E2EBFA;\n",
              "      box-shadow: 0px 1px 2px rgba(60, 64, 67, 0.3), 0px 1px 3px 1px rgba(60, 64, 67, 0.15);\n",
              "      fill: #174EA6;\n",
              "    }\n",
              "\n",
              "    .colab-df-buttons div {\n",
              "      margin-bottom: 4px;\n",
              "    }\n",
              "\n",
              "    [theme=dark] .colab-df-convert {\n",
              "      background-color: #3B4455;\n",
              "      fill: #D2E3FC;\n",
              "    }\n",
              "\n",
              "    [theme=dark] .colab-df-convert:hover {\n",
              "      background-color: #434B5C;\n",
              "      box-shadow: 0px 1px 3px 1px rgba(0, 0, 0, 0.15);\n",
              "      filter: drop-shadow(0px 1px 2px rgba(0, 0, 0, 0.3));\n",
              "      fill: #FFFFFF;\n",
              "    }\n",
              "  </style>\n",
              "\n",
              "    <script>\n",
              "      const buttonEl =\n",
              "        document.querySelector('#df-0537b13c-7580-4f4f-a909-9100fe227c08 button.colab-df-convert');\n",
              "      buttonEl.style.display =\n",
              "        google.colab.kernel.accessAllowed ? 'block' : 'none';\n",
              "\n",
              "      async function convertToInteractive(key) {\n",
              "        const element = document.querySelector('#df-0537b13c-7580-4f4f-a909-9100fe227c08');\n",
              "        const dataTable =\n",
              "          await google.colab.kernel.invokeFunction('convertToInteractive',\n",
              "                                                    [key], {});\n",
              "        if (!dataTable) return;\n",
              "\n",
              "        const docLinkHtml = 'Like what you see? Visit the ' +\n",
              "          '<a target=\"_blank\" href=https://colab.research.google.com/notebooks/data_table.ipynb>data table notebook</a>'\n",
              "          + ' to learn more about interactive tables.';\n",
              "        element.innerHTML = '';\n",
              "        dataTable['output_type'] = 'display_data';\n",
              "        await google.colab.output.renderOutput(dataTable, element);\n",
              "        const docLink = document.createElement('div');\n",
              "        docLink.innerHTML = docLinkHtml;\n",
              "        element.appendChild(docLink);\n",
              "      }\n",
              "    </script>\n",
              "  </div>\n",
              "\n",
              "\n",
              "<div id=\"df-99904614-34cf-4940-a570-2850d943aa04\">\n",
              "  <button class=\"colab-df-quickchart\" onclick=\"quickchart('df-99904614-34cf-4940-a570-2850d943aa04')\"\n",
              "            title=\"Suggest charts\"\n",
              "            style=\"display:none;\">\n",
              "\n",
              "<svg xmlns=\"http://www.w3.org/2000/svg\" height=\"24px\"viewBox=\"0 0 24 24\"\n",
              "     width=\"24px\">\n",
              "    <g>\n",
              "        <path d=\"M19 3H5c-1.1 0-2 .9-2 2v14c0 1.1.9 2 2 2h14c1.1 0 2-.9 2-2V5c0-1.1-.9-2-2-2zM9 17H7v-7h2v7zm4 0h-2V7h2v10zm4 0h-2v-4h2v4z\"/>\n",
              "    </g>\n",
              "</svg>\n",
              "  </button>\n",
              "\n",
              "<style>\n",
              "  .colab-df-quickchart {\n",
              "      --bg-color: #E8F0FE;\n",
              "      --fill-color: #1967D2;\n",
              "      --hover-bg-color: #E2EBFA;\n",
              "      --hover-fill-color: #174EA6;\n",
              "      --disabled-fill-color: #AAA;\n",
              "      --disabled-bg-color: #DDD;\n",
              "  }\n",
              "\n",
              "  [theme=dark] .colab-df-quickchart {\n",
              "      --bg-color: #3B4455;\n",
              "      --fill-color: #D2E3FC;\n",
              "      --hover-bg-color: #434B5C;\n",
              "      --hover-fill-color: #FFFFFF;\n",
              "      --disabled-bg-color: #3B4455;\n",
              "      --disabled-fill-color: #666;\n",
              "  }\n",
              "\n",
              "  .colab-df-quickchart {\n",
              "    background-color: var(--bg-color);\n",
              "    border: none;\n",
              "    border-radius: 50%;\n",
              "    cursor: pointer;\n",
              "    display: none;\n",
              "    fill: var(--fill-color);\n",
              "    height: 32px;\n",
              "    padding: 0;\n",
              "    width: 32px;\n",
              "  }\n",
              "\n",
              "  .colab-df-quickchart:hover {\n",
              "    background-color: var(--hover-bg-color);\n",
              "    box-shadow: 0 1px 2px rgba(60, 64, 67, 0.3), 0 1px 3px 1px rgba(60, 64, 67, 0.15);\n",
              "    fill: var(--button-hover-fill-color);\n",
              "  }\n",
              "\n",
              "  .colab-df-quickchart-complete:disabled,\n",
              "  .colab-df-quickchart-complete:disabled:hover {\n",
              "    background-color: var(--disabled-bg-color);\n",
              "    fill: var(--disabled-fill-color);\n",
              "    box-shadow: none;\n",
              "  }\n",
              "\n",
              "  .colab-df-spinner {\n",
              "    border: 2px solid var(--fill-color);\n",
              "    border-color: transparent;\n",
              "    border-bottom-color: var(--fill-color);\n",
              "    animation:\n",
              "      spin 1s steps(1) infinite;\n",
              "  }\n",
              "\n",
              "  @keyframes spin {\n",
              "    0% {\n",
              "      border-color: transparent;\n",
              "      border-bottom-color: var(--fill-color);\n",
              "      border-left-color: var(--fill-color);\n",
              "    }\n",
              "    20% {\n",
              "      border-color: transparent;\n",
              "      border-left-color: var(--fill-color);\n",
              "      border-top-color: var(--fill-color);\n",
              "    }\n",
              "    30% {\n",
              "      border-color: transparent;\n",
              "      border-left-color: var(--fill-color);\n",
              "      border-top-color: var(--fill-color);\n",
              "      border-right-color: var(--fill-color);\n",
              "    }\n",
              "    40% {\n",
              "      border-color: transparent;\n",
              "      border-right-color: var(--fill-color);\n",
              "      border-top-color: var(--fill-color);\n",
              "    }\n",
              "    60% {\n",
              "      border-color: transparent;\n",
              "      border-right-color: var(--fill-color);\n",
              "    }\n",
              "    80% {\n",
              "      border-color: transparent;\n",
              "      border-right-color: var(--fill-color);\n",
              "      border-bottom-color: var(--fill-color);\n",
              "    }\n",
              "    90% {\n",
              "      border-color: transparent;\n",
              "      border-bottom-color: var(--fill-color);\n",
              "    }\n",
              "  }\n",
              "</style>\n",
              "\n",
              "  <script>\n",
              "    async function quickchart(key) {\n",
              "      const quickchartButtonEl =\n",
              "        document.querySelector('#' + key + ' button');\n",
              "      quickchartButtonEl.disabled = true;  // To prevent multiple clicks.\n",
              "      quickchartButtonEl.classList.add('colab-df-spinner');\n",
              "      try {\n",
              "        const charts = await google.colab.kernel.invokeFunction(\n",
              "            'suggestCharts', [key], {});\n",
              "      } catch (error) {\n",
              "        console.error('Error during call to suggestCharts:', error);\n",
              "      }\n",
              "      quickchartButtonEl.classList.remove('colab-df-spinner');\n",
              "      quickchartButtonEl.classList.add('colab-df-quickchart-complete');\n",
              "    }\n",
              "    (() => {\n",
              "      let quickchartButtonEl =\n",
              "        document.querySelector('#df-99904614-34cf-4940-a570-2850d943aa04 button');\n",
              "      quickchartButtonEl.style.display =\n",
              "        google.colab.kernel.accessAllowed ? 'block' : 'none';\n",
              "    })();\n",
              "  </script>\n",
              "</div>\n",
              "    </div>\n",
              "  </div>\n"
            ],
            "application/vnd.google.colaboratory.intrinsic+json": {
              "type": "dataframe",
              "variable_name": "results_pd",
              "summary": "{\n  \"name\": \"results_pd\",\n  \"rows\": 5,\n  \"fields\": [\n    {\n      \"column\": \"LinearDiscriminantAnalysis()\",\n      \"properties\": {\n        \"dtype\": \"number\",\n        \"std\": 0.070099991970918,\n        \"min\": 0.5083333333333333,\n        \"max\": 0.6721311475409836,\n        \"num_unique_values\": 5,\n        \"samples\": [\n          0.5083333333333333,\n          0.6721311475409836,\n          0.5815602836879432\n        ],\n        \"semantic_type\": \"\",\n        \"description\": \"\"\n      }\n    },\n    {\n      \"column\": \"QuadraticDiscriminantAnalysis()\",\n      \"properties\": {\n        \"dtype\": \"number\",\n        \"std\": 0.07410557611656193,\n        \"min\": 0.3770491803278688,\n        \"max\": 0.5557099194220617,\n        \"num_unique_values\": 5,\n        \"samples\": [\n          0.5166666666666667,\n          0.3770491803278688,\n          0.4423076923076923\n        ],\n        \"semantic_type\": \"\",\n        \"description\": \"\"\n      }\n    },\n    {\n      \"column\": \"GaussianNB()\",\n      \"properties\": {\n        \"dtype\": \"number\",\n        \"std\": 0.07192640456140678,\n        \"min\": 0.36065573770491804,\n        \"max\": 0.5332036676854681,\n        \"num_unique_values\": 5,\n        \"samples\": [\n          0.5,\n          0.36065573770491804,\n          0.4230769230769231\n        ],\n        \"semantic_type\": \"\",\n        \"description\": \"\"\n      }\n    },\n    {\n      \"column\": \"LogisticRegression()\",\n      \"properties\": {\n        \"dtype\": \"number\",\n        \"std\": 0.06523422430213253,\n        \"min\": 0.5,\n        \"max\": 0.6557377049180327,\n        \"num_unique_values\": 5,\n        \"samples\": [\n          0.5,\n          0.6557377049180327,\n          0.5714285714285715\n        ],\n        \"semantic_type\": \"\",\n        \"description\": \"\"\n      }\n    },\n    {\n      \"column\": \"SGDClassifier()\",\n      \"properties\": {\n        \"dtype\": \"number\",\n        \"std\": 0.019157763480024424,\n        \"min\": 0.4262295081967213,\n        \"max\": 0.4727272727272727,\n        \"num_unique_values\": 5,\n        \"samples\": [\n          0.4666666666666667,\n          0.4262295081967213,\n          0.44827586206896547\n        ],\n        \"semantic_type\": \"\",\n        \"description\": \"\"\n      }\n    },\n    {\n      \"column\": \"KNeighborsClassifier()\",\n      \"properties\": {\n        \"dtype\": \"number\",\n        \"std\": 0.037624890534539226,\n        \"min\": 0.625,\n        \"max\": 0.71561544873576,\n        \"num_unique_values\": 4,\n        \"samples\": [\n          0.625,\n          0.6557377049180327,\n          0.71561544873576\n        ],\n        \"semantic_type\": \"\",\n        \"description\": \"\"\n      }\n    },\n    {\n      \"column\": \"DecisionTreeClassifier()\",\n      \"properties\": {\n        \"dtype\": \"number\",\n        \"std\": 0.0,\n        \"min\": 1.0,\n        \"max\": 1.0,\n        \"num_unique_values\": 1,\n        \"samples\": [\n          1.0\n        ],\n        \"semantic_type\": \"\",\n        \"description\": \"\"\n      }\n    }\n  ]\n}"
            }
          },
          "metadata": {},
          "execution_count": 35
        }
      ]
    }
  ],
  "metadata": {
    "colab": {
      "name": "assignment.ipynb",
      "provenance": []
    },
    "kernelspec": {
      "display_name": "Python 3",
      "language": "python",
      "name": "python3"
    },
    "language_info": {
      "codemirror_mode": {
        "name": "ipython",
        "version": 3
      },
      "file_extension": ".py",
      "mimetype": "text/x-python",
      "name": "python",
      "nbconvert_exporter": "python",
      "pygments_lexer": "ipython3",
      "version": "3.8.5"
    }
  },
  "nbformat": 4,
  "nbformat_minor": 0
}